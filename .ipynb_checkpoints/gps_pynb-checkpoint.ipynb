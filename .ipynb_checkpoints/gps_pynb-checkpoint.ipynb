{
 "cells": [
  {
   "cell_type": "code",
   "execution_count": 1,
   "metadata": {},
   "outputs": [],
   "source": [
    "import numpy as np\n",
    "import matplotlib.pyplot as plt\n",
    "from os.path import join, expanduser\n",
    "\n",
    "import os"
   ]
  },
  {
   "cell_type": "code",
   "execution_count": 2,
   "metadata": {},
   "outputs": [],
   "source": [
    "expt_dir = join(expanduser('~'), 'catkin_ws', 'src', 'gps', 'experiments')\n",
    "expt_name = 'mjc_mdgps_protagonist'\n",
    "expt = join(expt_dir, expt_name)"
   ]
  },
  {
   "cell_type": "code",
   "execution_count": 3,
   "metadata": {},
   "outputs": [
    {
     "ename": "FileNotFoundError",
     "evalue": "[Errno 2] No such file or directory: '/home/lex/catkin_ws/src/gps/experiments/mjc_mdgps_protagonist/costs.txt'",
     "output_type": "error",
     "traceback": [
      "\u001b[0;31m---------------------------------------------------------------------------\u001b[0m",
      "\u001b[0;31mFileNotFoundError\u001b[0m                         Traceback (most recent call last)",
      "\u001b[0;32m<ipython-input-3-089d8aa1184f>\u001b[0m in \u001b[0;36m<module>\u001b[0;34m()\u001b[0m\n\u001b[0;32m----> 1\u001b[0;31m \u001b[0mcosts\u001b[0m \u001b[0;34m=\u001b[0m \u001b[0mnp\u001b[0m\u001b[0;34m.\u001b[0m\u001b[0mloadtxt\u001b[0m\u001b[0;34m(\u001b[0m\u001b[0mjoin\u001b[0m\u001b[0;34m(\u001b[0m\u001b[0mexpt\u001b[0m\u001b[0;34m,\u001b[0m \u001b[0;34m'costs.txt'\u001b[0m\u001b[0;34m)\u001b[0m\u001b[0;34m)\u001b[0m\u001b[0;34m\u001b[0m\u001b[0m\n\u001b[0m\u001b[1;32m      2\u001b[0m \u001b[0;34m\u001b[0m\u001b[0m\n\u001b[1;32m      3\u001b[0m \u001b[0mprint\u001b[0m\u001b[0;34m(\u001b[0m\u001b[0mcosts\u001b[0m\u001b[0;34m)\u001b[0m\u001b[0;34m\u001b[0m\u001b[0m\n",
      "\u001b[0;32m~/anaconda3/envs/py35/lib/python3.5/site-packages/numpy/lib/npyio.py\u001b[0m in \u001b[0;36mloadtxt\u001b[0;34m(fname, dtype, comments, delimiter, converters, skiprows, usecols, unpack, ndmin)\u001b[0m\n\u001b[1;32m    896\u001b[0m                 \u001b[0mfh\u001b[0m \u001b[0;34m=\u001b[0m \u001b[0miter\u001b[0m\u001b[0;34m(\u001b[0m\u001b[0mopen\u001b[0m\u001b[0;34m(\u001b[0m\u001b[0mfname\u001b[0m\u001b[0;34m,\u001b[0m \u001b[0;34m'U'\u001b[0m\u001b[0;34m)\u001b[0m\u001b[0;34m)\u001b[0m\u001b[0;34m\u001b[0m\u001b[0m\n\u001b[1;32m    897\u001b[0m             \u001b[0;32melse\u001b[0m\u001b[0;34m:\u001b[0m\u001b[0;34m\u001b[0m\u001b[0m\n\u001b[0;32m--> 898\u001b[0;31m                 \u001b[0mfh\u001b[0m \u001b[0;34m=\u001b[0m \u001b[0miter\u001b[0m\u001b[0;34m(\u001b[0m\u001b[0mopen\u001b[0m\u001b[0;34m(\u001b[0m\u001b[0mfname\u001b[0m\u001b[0;34m)\u001b[0m\u001b[0;34m)\u001b[0m\u001b[0;34m\u001b[0m\u001b[0m\n\u001b[0m\u001b[1;32m    899\u001b[0m         \u001b[0;32melse\u001b[0m\u001b[0;34m:\u001b[0m\u001b[0;34m\u001b[0m\u001b[0m\n\u001b[1;32m    900\u001b[0m             \u001b[0mfh\u001b[0m \u001b[0;34m=\u001b[0m \u001b[0miter\u001b[0m\u001b[0;34m(\u001b[0m\u001b[0mfname\u001b[0m\u001b[0;34m)\u001b[0m\u001b[0;34m\u001b[0m\u001b[0m\n",
      "\u001b[0;31mFileNotFoundError\u001b[0m: [Errno 2] No such file or directory: '/home/lex/catkin_ws/src/gps/experiments/mjc_mdgps_protagonist/costs.txt'"
     ]
    }
   ],
   "source": [
    "costs = np.loadtxt(join(expt, 'costs.txt'))\n",
    "\n",
    "print(costs)"
   ]
  },
  {
   "cell_type": "code",
   "execution_count": 4,
   "metadata": {},
   "outputs": [],
   "source": [
    "np.savetxt('/tmp/costs.txt', [1, 2, 3, 4])"
   ]
  },
  {
   "cell_type": "code",
   "execution_count": 5,
   "metadata": {},
   "outputs": [
    {
     "name": "stdout",
     "output_type": "stream",
     "text": [
      "[ 1.  2.  3.  4.]\n"
     ]
    }
   ],
   "source": [
    "res = np.loadtxt('/tmp/costs.txt')\n",
    "print(res)"
   ]
  },
  {
   "cell_type": "code",
   "execution_count": 6,
   "metadata": {},
   "outputs": [],
   "source": [
    "def costs_plotter(cost_array, show=False, save=None, save_dir=None, expt_name='box2d_arm_example'):\n",
    "    f, ax = plt.subplots(1, 1)   \n",
    "    t = np.arange(len(cost_array))\n",
    "    \n",
    "    if save_dir is None:\n",
    "        save_dir = join(expanduser('~'), 'Documents', 'Papers', 'iDG_Journal', 'ICML_figs')\n",
    "                        \n",
    "    if not os.path.exists(save_dir):\n",
    "        os.makedirs(save_dir)    \n",
    "    fontdict = {'fontsize':16, 'fontweight':'bold'}\n",
    "\n",
    "    ax.plot(t, cost_array, linewidth=8, color='blue')#, fontdict=fontdict)\n",
    "    \n",
    "    ax.set_xlabel('Number of Iterations',fontdict=fontdict)\n",
    "    ax.set_ylabel('Cost per iteration',fontdict=fontdict)\n",
    "    \n",
    "    ax.set_title(expt_name, fontdict)\n",
    "    \n",
    "    ax.xaxis.set_tick_params(labelsize=20)\n",
    "    ax.yaxis.set_tick_params(labelsize=20)\n",
    "\n",
    "    plt.gcf().set_size_inches(8, 5)\n",
    "    plt.grid()\n",
    "                        \n",
    "    if show:\n",
    "        plt.show()\n",
    "    if save:\n",
    "        f.savefig(save_dir + '/' + save + '.png')\n",
    "        f.savefig(save_dir + '/' + save + '.svg')"
   ]
  },
  {
   "cell_type": "code",
   "execution_count": null,
   "metadata": {},
   "outputs": [],
   "source": [
    "costs_y0.5 = [[1293.199832441632, -356.37077226672261, -325.21620215648824, -342.62118323929906],\n",
    "[1651.0784232499504, -357.60684748312923, -419.85712120312047, -386.19617112958207],\n",
    "[-174.68318952321647, -315.88862412575816, -263.42591679519336, -242.86728257105241],\n",
    "[-502.47719686147627, -513.43755066820609, -500.42442080387025, -403.11998090797886],\n",
    "[-544.43722254784166, -499.68734613993485, -532.93952994553035, -483.91167497893696],\n",
    "[-558.36496893122421, -506.26553180958228, -539.01774395658435, -512.260414584655],\n",
    "[-564.04259411097871, -398.49276221196578, -528.4803948737781, -519.94916506947527],\n",
    "[25303.759076246126, -395.95658724582705, 176.83617916968902, -532.0119748639604],\n",
    "[86004.673648318625, -386.75576288056175, -452.92770523560483, -527.68879799517026],\n",
    "[170.0162219478363, -517.54693183019504, -520.77281869921057, -535.43402731951358],\n",
    "[-52.905787921642784, -462.96351173698929, -538.0481423738205, -522.944740773489],\n",
    "[86004.673648318625, -386.75576288056175, -452.92770523560483, -527.68879799517026],\n",
    "[-52.905787921642784, -462.96351173698929, -538.0481423738205, -522.944740773489],\n",
    "[170.0162219478363, -517.54693183019504, -520.77281869921057, -535.43402731951358],\n",
    "[170.0162219478363, -517.54693183019504, -520.77281869921057, -535.43402731951358]\n",
    "]"
   ]
  },
  {
   "cell_type": "code",
   "execution_count": 7,
   "metadata": {},
   "outputs": [
    {
     "ename": "NameError",
     "evalue": "name 'cost' is not defined",
     "output_type": "error",
     "traceback": [
      "\u001b[0;31m---------------------------------------------------------------------------\u001b[0m",
      "\u001b[0;31mNameError\u001b[0m                                 Traceback (most recent call last)",
      "\u001b[0;32m<ipython-input-7-97cfa2e087f1>\u001b[0m in \u001b[0;36m<module>\u001b[0;34m()\u001b[0m\n\u001b[0;32m----> 1\u001b[0;31m \u001b[0mcosts_plotter\u001b[0m\u001b[0;34m(\u001b[0m\u001b[0mcost\u001b[0m\u001b[0;34m,\u001b[0m \u001b[0mshow\u001b[0m\u001b[0;34m=\u001b[0m\u001b[0;32mFalse\u001b[0m\u001b[0;34m,\u001b[0m \u001b[0msave\u001b[0m\u001b[0;34m=\u001b[0m\u001b[0;34m'protagonist'\u001b[0m\u001b[0;34m,\u001b[0m \u001b[0mexpt_name\u001b[0m\u001b[0;34m=\u001b[0m\u001b[0mexpt_name\u001b[0m\u001b[0;34m)\u001b[0m\u001b[0;34m\u001b[0m\u001b[0m\n\u001b[0m",
      "\u001b[0;31mNameError\u001b[0m: name 'cost' is not defined"
     ]
    }
   ],
   "source": [
    "costs_plotter(cost, show=False, save='protagonist', expt_name=expt_name)"
   ]
  },
  {
   "cell_type": "code",
   "execution_count": 164,
   "metadata": {},
   "outputs": [
    {
     "name": "stdout",
     "output_type": "stream",
     "text": [
      "[    67.24791869    121.85457086   -249.21625325   -479.86478731\n",
      "   -515.2439434    -528.97716482   -502.74122907   6138.15667333\n",
      "  21159.32534555   -350.93438898   -394.2155457   21159.32534555\n",
      "   -394.2155457    -350.93438898   -350.93438898]\n"
     ]
    }
   ],
   "source": [
    "expt_name = 'Pendulum $\\gamma$ = 0.5'\n",
    "costs = [\n",
    "[1293.199832441632, -356.37077226672261, -325.21620215648824, -342.62118323929906],\n",
    "[1651.0784232499504, -357.60684748312923, -419.85712120312047, -386.19617112958207],\n",
    "[-174.68318952321647, -315.88862412575816, -263.42591679519336, -242.86728257105241],\n",
    "[-502.47719686147627, -513.43755066820609, -500.42442080387025, -403.11998090797886],\n",
    "[-544.43722254784166, -499.68734613993485, -532.93952994553035, -483.91167497893696],\n",
    "[-558.36496893122421, -506.26553180958228, -539.01774395658435, -512.260414584655],\n",
    "[-564.04259411097871, -398.49276221196578, -528.4803948737781, -519.94916506947527],\n",
    "[25303.759076246126, -395.95658724582705, 176.83617916968902, -532.0119748639604],\n",
    "[86004.673648318625, -386.75576288056175, -452.92770523560483, -527.68879799517026],\n",
    "[170.0162219478363, -517.54693183019504, -520.77281869921057, -535.43402731951358],\n",
    "[-52.905787921642784, -462.96351173698929, -538.0481423738205, -522.944740773489],\n",
    "[86004.673648318625, -386.75576288056175, -452.92770523560483, -527.68879799517026],\n",
    "[-52.905787921642784, -462.96351173698929, -538.0481423738205, -522.944740773489],\n",
    "[170.0162219478363, -517.54693183019504, -520.77281869921057, -535.43402731951358],\n",
    "[170.0162219478363, -517.54693183019504, -520.77281869921057, -535.43402731951358]\n",
    "]\n",
    "cost = np.array(costs)\n",
    "cost = np.mean(cost, 1)\n",
    "# with open(join(expt_dir, expt_name) + '/costs.txt') as f:\n",
    "#     w, h = [int(x) for x in next(f).split()]\n",
    "#     costs = [[int(x) for x in line.split()] for line in f]\n",
    "print(cost)"
   ]
  },
  {
   "cell_type": "code",
   "execution_count": 165,
   "metadata": {},
   "outputs": [
    {
     "data": {
      "image/png": "[encoded data removed]",
      "text/plain": [
       "<matplotlib.figure.Figure at 0x7f5378e67160>"
      ]
     },
     "metadata": {},
     "output_type": "display_data"
    }
   ],
   "source": [
    "costs_plotter(cost,  save=None, expt_name=expt_name)"
   ]
  },
  {
   "cell_type": "code",
   "execution_count": null,
   "metadata": {},
   "outputs": [],
   "source": []
  },
  {
   "cell_type": "code",
   "execution_count": 69,
   "metadata": {},
   "outputs": [
    {
     "ename": "TypeError",
     "evalue": "'float' object cannot be interpreted as an integer",
     "output_type": "error",
     "traceback": [
      "\u001b[0;31m---------------------------------------------------------------------------\u001b[0m",
      "\u001b[0;31mTypeError\u001b[0m                                 Traceback (most recent call last)",
      "\u001b[0;32m<ipython-input-69-87c1e1c8eefd>\u001b[0m in \u001b[0;36m<module>\u001b[0;34m()\u001b[0m\n\u001b[0;32m----> 1\u001b[0;31m \u001b[0mlvv_t2\u001b[0m\u001b[0;34m=\u001b[0m \u001b[0mnp\u001b[0m\u001b[0;34m.\u001b[0m\u001b[0mtile\u001b[0m\u001b[0;34m(\u001b[0m\u001b[0mnp\u001b[0m\u001b[0;34m.\u001b[0m\u001b[0mdiag\u001b[0m\u001b[0;34m(\u001b[0m\u001b[0;36m2\u001b[0m \u001b[0;34m*\u001b[0m \u001b[0;36m1e-6\u001b[0m \u001b[0;34m*\u001b[0m \u001b[0mnp\u001b[0m\u001b[0;34m.\u001b[0m\u001b[0marray\u001b[0m\u001b[0;34m(\u001b[0m\u001b[0;34m[\u001b[0m\u001b[0;36m1\u001b[0m\u001b[0;34m,\u001b[0m \u001b[0;36m1\u001b[0m\u001b[0;34m]\u001b[0m\u001b[0;34m)\u001b[0m\u001b[0;34m)\u001b[0m\u001b[0;34m,\u001b[0m \u001b[0;34m[\u001b[0m\u001b[0;36m100\u001b[0m\u001b[0;34m,\u001b[0m \u001b[0;36m3.5\u001b[0m\u001b[0;34m,\u001b[0m \u001b[0;36m3\u001b[0m\u001b[0;34m]\u001b[0m\u001b[0;34m)\u001b[0m \u001b[0;31m#shape (100, 7, 7)\u001b[0m\u001b[0;34m\u001b[0m\u001b[0m\n\u001b[0m\u001b[1;32m      2\u001b[0m \u001b[0mlvv_t2\u001b[0m\u001b[0;34m.\u001b[0m\u001b[0mshape\u001b[0m\u001b[0;34m\u001b[0m\u001b[0m\n",
      "\u001b[0;32m~/anaconda3/lib/python3.6/site-packages/numpy/lib/shape_base.py\u001b[0m in \u001b[0;36mtile\u001b[0;34m(A, reps)\u001b[0m\n\u001b[1;32m    912\u001b[0m                 \u001b[0mc\u001b[0m \u001b[0;34m=\u001b[0m \u001b[0mc\u001b[0m\u001b[0;34m.\u001b[0m\u001b[0mreshape\u001b[0m\u001b[0;34m(\u001b[0m\u001b[0;34m-\u001b[0m\u001b[0;36m1\u001b[0m\u001b[0;34m,\u001b[0m \u001b[0mn\u001b[0m\u001b[0;34m)\u001b[0m\u001b[0;34m.\u001b[0m\u001b[0mrepeat\u001b[0m\u001b[0;34m(\u001b[0m\u001b[0mnrep\u001b[0m\u001b[0;34m,\u001b[0m \u001b[0;36m0\u001b[0m\u001b[0;34m)\u001b[0m\u001b[0;34m\u001b[0m\u001b[0m\n\u001b[1;32m    913\u001b[0m             \u001b[0mn\u001b[0m \u001b[0;34m//=\u001b[0m \u001b[0mdim_in\u001b[0m\u001b[0;34m\u001b[0m\u001b[0m\n\u001b[0;32m--> 914\u001b[0;31m     \u001b[0;32mreturn\u001b[0m \u001b[0mc\u001b[0m\u001b[0;34m.\u001b[0m\u001b[0mreshape\u001b[0m\u001b[0;34m(\u001b[0m\u001b[0mshape_out\u001b[0m\u001b[0;34m)\u001b[0m\u001b[0;34m\u001b[0m\u001b[0m\n\u001b[0m",
      "\u001b[0;31mTypeError\u001b[0m: 'float' object cannot be interpreted as an integer"
     ]
    }
   ],
   "source": [
    "lvv_t2= np.tile(np.diag(2 * 1e-6 * np.array([1, 1])), [100, 3.5, 3]) #shape (100, 7, 7)\n",
    "lvv_t2.shape"
   ]
  },
  {
   "cell_type": "code",
   "execution_count": null,
   "metadata": {
    "collapsed": true
   },
   "outputs": [],
   "source": []
  }
 ],
 "metadata": {
  "kernelspec": {
   "display_name": "Python 3",
   "language": "python",
   "name": "python3"
  },
  "language_info": {
   "codemirror_mode": {
    "name": "ipython",
    "version": 3
   },
   "file_extension": ".py",
   "mimetype": "text/x-python",
   "name": "python",
   "nbconvert_exporter": "python",
   "pygments_lexer": "ipython3",
   "version": "3.5.4"
  }
 },
 "nbformat": 4,
 "nbformat_minor": 2
}
