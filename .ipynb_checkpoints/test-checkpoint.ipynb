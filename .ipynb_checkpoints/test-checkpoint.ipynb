{
 "cells": [
  {
   "cell_type": "code",
   "execution_count": 9,
   "metadata": {},
   "outputs": [
    {
     "name": "stdout",
     "output_type": "stream",
     "text": [
      "(26,)\n"
     ]
    },
    {
     "data": {
      "text/plain": [
       "(33,)"
      ]
     },
     "execution_count": 9,
     "metadata": {},
     "output_type": "execute_result"
    }
   ],
   "source": [
    "# fixing PKLm\n",
    "import numpy as np\n",
    "M = np.r_[\n",
    "    np.c_[np.empty((26,26)), np.empty((26,7))], \n",
    "    np.c_[np.empty((7, 26)), np.empty((7, 7))], \n",
    "]\n",
    "M.shape\n",
    "print(np.zeros((26,7)).dot(np.zeros((7))).shape)\n",
    "v = np.r_[np.zeros((26)), np.zeros((7))]\n",
    "v.shape"
   ]
  },
  {
   "cell_type": "code",
   "execution_count": 3,
   "metadata": {},
   "outputs": [
    {
     "name": "stdout",
     "output_type": "stream",
     "text": [
      "Help on function zeros_like in module numpy.core.numeric:\n",
      "\n",
      "zeros_like(a, dtype=None, order='K', subok=True)\n",
      "    Return an array of zeros with the same shape and type as a given array.\n",
      "    \n",
      "    Parameters\n",
      "    ----------\n",
      "    a : array_like\n",
      "        The shape and data-type of `a` define these same attributes of\n",
      "        the returned array.\n",
      "    dtype : data-type, optional\n",
      "        Overrides the data type of the result.\n",
      "    \n",
      "        .. versionadded:: 1.6.0\n",
      "    order : {'C', 'F', 'A', or 'K'}, optional\n",
      "        Overrides the memory layout of the result. 'C' means C-order,\n",
      "        'F' means F-order, 'A' means 'F' if `a` is Fortran contiguous,\n",
      "        'C' otherwise. 'K' means match the layout of `a` as closely\n",
      "        as possible.\n",
      "    \n",
      "        .. versionadded:: 1.6.0\n",
      "    subok : bool, optional.\n",
      "        If True, then the newly created array will use the sub-class\n",
      "        type of 'a', otherwise it will be a base-class array. Defaults\n",
      "        to True.\n",
      "    \n",
      "    Returns\n",
      "    -------\n",
      "    out : ndarray\n",
      "        Array of zeros with the same shape and type as `a`.\n",
      "    \n",
      "    See Also\n",
      "    --------\n",
      "    ones_like : Return an array of ones with shape and type of input.\n",
      "    empty_like : Return an empty array with shape and type of input.\n",
      "    zeros : Return a new array setting values to zero.\n",
      "    ones : Return a new array setting values to one.\n",
      "    empty : Return a new uninitialized array.\n",
      "    \n",
      "    Examples\n",
      "    --------\n",
      "    >>> x = np.arange(6)\n",
      "    >>> x = x.reshape((2, 3))\n",
      "    >>> x\n",
      "    array([[0, 1, 2],\n",
      "           [3, 4, 5]])\n",
      "    >>> np.zeros_like(x)\n",
      "    array([[0, 0, 0],\n",
      "           [0, 0, 0]])\n",
      "    \n",
      "    >>> y = np.arange(3, dtype=np.float)\n",
      "    >>> y\n",
      "    array([ 0.,  1.,  2.])\n",
      "    >>> np.zeros_like(y)\n",
      "    array([ 0.,  0.,  0.])\n",
      "\n"
     ]
    }
   ],
   "source": [
    "help(np.zeros_like)"
   ]
  },
  {
   "cell_type": "code",
   "execution_count": 23,
   "metadata": {},
   "outputs": [
    {
     "name": "stdout",
     "output_type": "stream",
     "text": [
      "('w vals: ', array([ -9.71197146e-310,  -8.15561661e-310,  -1.96489224e-313,\n",
      "         1.85570289e-313,   2.80834431e-310,   1.83343715e-309,\n",
      "         3.14891619e-309]))\n",
      "[[-0.2 -0.  -0.  -0.  -0. ]\n",
      " [-0.  -0.2 -0.  -0.  -0. ]\n",
      " [-0.  -0.  -0.2 -0.  -0. ]\n",
      " [-0.  -0.  -0.  -0.2 -0. ]\n",
      " [-0.  -0.  -0.  -0.  -0.2]]\n"
     ]
    }
   ],
   "source": [
    "import scipy as sp\n",
    "q = -5*np.eye(5)\n",
    "w,v = np.linalg.eigh(x)\n",
    "print('w vals: ', w)\n",
    "# print('w: ', np.linalg.eigh(x)[0])\n",
    "# print('v vectors: ', v)wsort = np.amin(np.sort(w))\n",
    "qchol = np.linalg.inv(q)\n",
    "print(qchol)"
   ]
  },
  {
   "cell_type": "code",
   "execution_count": 38,
   "metadata": {},
   "outputs": [
    {
     "name": "stdout",
     "output_type": "stream",
     "text": [
      "(40, 40)\n",
      "(7, 33)\n"
     ]
    }
   ],
   "source": [
    "import numpy as np\n",
    "\n",
    "dX, dU, dV = 26, 7,7\n",
    "\n",
    "idx_x = slice(dX)\n",
    "idx_u = slice(dX, dX+dU)\n",
    "idx_v = slice(dX+dU, dX+dU+dV)\n",
    "\n",
    "\n",
    "# sigma_u   = np.zeros((T, dX+dU+dV, dX+dU+dV))\n",
    "# mu_u      = np.zeros((T, dX+dU+dV))\n",
    "sigma_u = np.vstack([\n",
    "    np.hstack([\n",
    "        np.empty([26,26]), np.empty([26,7]), np.zeros([26,7])\n",
    "    ]),\n",
    "    np.hstack([\n",
    "        np.empty([7,26]), np.empty([7,7]) + np.empty([7,7]), np.zeros([7,7])\n",
    "                 ]),\n",
    "    np.hstack([\n",
    "    np.empty([7,26]), np.empty([7,7]) + np.empty([7,7]), np.zeros([7,7])\n",
    "             ])\n",
    "])\n",
    "print(sigma_u.shape)\n",
    "\n",
    "mu = np.empty([26])"
   ]
  },
  {
   "cell_type": "code",
   "execution_count": 25,
   "metadata": {
    "scrolled": true
   },
   "outputs": [
    {
     "name": "stdout",
     "output_type": "stream",
     "text": [
      "Q:\n",
      "[[ 0  1  2  3  4  5  6  7  8  9]\n",
      " [10 11 12 13 14 15 16 17 18 19]\n",
      " [20 21 22 23 24 25 26 27 28 29]\n",
      " [30 31 32 33 34 35 36 37 38 39]\n",
      " [40 41 42 43 44 45 46 47 48 49]\n",
      " [50 51 52 53 54 55 56 57 58 59]\n",
      " [60 61 62 63 64 65 66 67 68 69]\n",
      " [70 71 72 73 74 75 76 77 78 79]\n",
      " [80 81 82 83 84 85 86 87 88 89]\n",
      " [90 91 92 93 94 95 96 97 98 99]], \n",
      "\n",
      "Qxx:\n",
      "[[ 0  1  2  3]\n",
      " [10 11 12 13]\n",
      " [20 21 22 23]\n",
      " [30 31 32 33]], \n",
      "\n",
      "Qxu:\n",
      "[[ 4  5  6]\n",
      " [14 15 16]\n",
      " [24 25 26]\n",
      " [34 35 36]], \n",
      "\n",
      "Qxv:\n",
      "[[ 7  8  9]\n",
      " [17 18 19]\n",
      " [27 28 29]\n",
      " [37 38 39]], \n",
      "\n",
      "Quu:\n",
      "[[44 45 46]\n",
      " [54 55 56]\n",
      " [64 65 66]],  \n",
      "\n",
      "Qvv:\n",
      "[[77 78 79]\n",
      " [87 88 89]\n",
      " [97 98 99]]\n"
     ]
    }
   ],
   "source": [
    "import numpy as np\n",
    "Q = np.arange(100).reshape(10,10)\n",
    "\n",
    "dX, dU, dV = 4, 3, 3\n",
    "idx_x = slice(dX)\n",
    "idx_u = slice(dX, dX+dU)\n",
    "idx_v = slice(dX+dU, dX+dU+dV)\n",
    "\n",
    "Qxx = Q[idx_x, idx_x]\n",
    "Qxu = Q[idx_x, idx_u]\n",
    "Qxv = Q[idx_x, idx_v]\n",
    "Quu = Q[idx_u, idx_u]\n",
    "Qvv = Q[idx_v, idx_v]\n",
    "\n",
    "print('Q:\\n{}, \\n\\nQxx:\\n{}, \\n\\nQxu:\\n{}, \\n\\nQxv:\\n{}, \\n\\nQuu:\\n{},  \\n\\nQvv:\\n{}'.format(Q,\\\n",
    "                        Qxx, Qxu, Qxv, Quu, Qvv))\n",
    "# print('Qxu: ', Qxu)"
   ]
  },
  {
   "cell_type": "code",
   "execution_count": 44,
   "metadata": {},
   "outputs": [
    {
     "name": "stdout",
     "output_type": "stream",
     "text": [
      "(26, 33)\n",
      "(33,)\n"
     ]
    },
    {
     "ename": "TypeError",
     "evalue": "'RClass' object is not callable",
     "output_type": "error",
     "traceback": [
      "\u001b[0;31m---------------------------------------------------------------------------\u001b[0m",
      "\u001b[0;31mTypeError\u001b[0m                                 Traceback (most recent call last)",
      "\u001b[0;32m<ipython-input-44-425e388a7810>\u001b[0m in \u001b[0;36m<module>\u001b[0;34m()\u001b[0m\n\u001b[1;32m     21\u001b[0m \u001b[0mprint\u001b[0m\u001b[0;34m(\u001b[0m\u001b[0mLtt\u001b[0m\u001b[0;34m.\u001b[0m\u001b[0mshape\u001b[0m\u001b[0;34m)\u001b[0m\u001b[0;34m\u001b[0m\u001b[0m\n\u001b[1;32m     22\u001b[0m lt = Ltt.dot(np.r_([    \n\u001b[0;32m---> 23\u001b[0;31m         \u001b[0mnp\u001b[0m\u001b[0;34m.\u001b[0m\u001b[0mconcatenate\u001b[0m\u001b[0;34m(\u001b[0m\u001b[0;34m[\u001b[0m\u001b[0mnp\u001b[0m\u001b[0;34m.\u001b[0m\u001b[0mzeros\u001b[0m\u001b[0;34m(\u001b[0m\u001b[0;36m7\u001b[0m\u001b[0;34m)\u001b[0m\u001b[0;34m,\u001b[0m \u001b[0mnp\u001b[0m\u001b[0;34m.\u001b[0m\u001b[0mzeros\u001b[0m\u001b[0;34m(\u001b[0m\u001b[0;36m7\u001b[0m\u001b[0;34m)\u001b[0m\u001b[0;34m]\u001b[0m\u001b[0;34m)\u001b[0m\u001b[0;34m\u001b[0m\u001b[0m\n\u001b[0m\u001b[1;32m     24\u001b[0m ]) )\n\u001b[1;32m     25\u001b[0m \u001b[0mprint\u001b[0m\u001b[0;34m(\u001b[0m\u001b[0mlt\u001b[0m\u001b[0;34m.\u001b[0m\u001b[0mshape\u001b[0m\u001b[0;34m)\u001b[0m\u001b[0;34m\u001b[0m\u001b[0m\n",
      "\u001b[0;31mTypeError\u001b[0m: 'RClass' object is not callable"
     ]
    }
   ],
   "source": [
    "dX, dU, dV = 26, 7, 7\n",
    "dt = .01\n",
    "gains = 1.0/np.array([3.09, 1.08, 0.393, 0.674, 0.111, 0.152, 0.098])\n",
    "Fd = np.vstack([\n",
    "    np.hstack([\n",
    "        np.eye(dU), dt * np.eye(dU), np.zeros((dU, dX - dU*2)),\n",
    "        dt ** 2 * np.diag(gains)\n",
    "    ]),\n",
    "    np.hstack([\n",
    "        np.zeros((dU, dU)), np.eye(dU), np.zeros((dU, dX - dU*2)),\n",
    "        dt * np.diag(gains)\n",
    "    ]),\n",
    "    np.zeros((dX - dU*2, dX+dU))\n",
    "])\n",
    "print(Fd.shape)\n",
    "# print(Fd)\n",
    "Ltt = np.hstack([\n",
    "         np.ones(dU),\n",
    "         np.ones(dU),\n",
    "         np.zeros(dX - dU*2), np.ones(dU)])\n",
    "print(Ltt.shape)\n",
    "lt = Ltt.dot(np.r_([    \n",
    "        np.concatenate([np.zeros(7), np.zeros(7)])\n",
    "]) )\n",
    "print(lt.shape)"
   ]
  },
  {
   "cell_type": "code",
   "execution_count": 49,
   "metadata": {},
   "outputs": [
    {
     "ename": "ValueError",
     "evalue": "shapes (33,) and (21,) not aligned: 33 (dim 0) != 21 (dim 0)",
     "output_type": "error",
     "traceback": [
      "\u001b[0;31m---------------------------------------------------------------------------\u001b[0m",
      "\u001b[0;31mValueError\u001b[0m                                Traceback (most recent call last)",
      "\u001b[0;32m<ipython-input-49-08ad40b774bf>\u001b[0m in \u001b[0;36m<module>\u001b[0;34m()\u001b[0m\n\u001b[1;32m      1\u001b[0m \u001b[0ma\u001b[0m \u001b[0;34m=\u001b[0m \u001b[0mnp\u001b[0m\u001b[0;34m.\u001b[0m\u001b[0mconcatenate\u001b[0m\u001b[0;34m(\u001b[0m\u001b[0;34m[\u001b[0m\u001b[0mnp\u001b[0m\u001b[0;34m.\u001b[0m\u001b[0mzeros\u001b[0m\u001b[0;34m(\u001b[0m\u001b[0;36m7\u001b[0m\u001b[0;34m)\u001b[0m\u001b[0;34m,\u001b[0m \u001b[0mnp\u001b[0m\u001b[0;34m.\u001b[0m\u001b[0mzeros\u001b[0m\u001b[0;34m(\u001b[0m\u001b[0;36m7\u001b[0m\u001b[0;34m)\u001b[0m\u001b[0;34m]\u001b[0m\u001b[0;34m)\u001b[0m\u001b[0;34m\u001b[0m\u001b[0m\n\u001b[1;32m      2\u001b[0m \u001b[0mb\u001b[0m \u001b[0;34m=\u001b[0m \u001b[0mnp\u001b[0m\u001b[0;34m.\u001b[0m\u001b[0mr_\u001b[0m\u001b[0;34m[\u001b[0m\u001b[0ma\u001b[0m\u001b[0;34m,\u001b[0m \u001b[0mnp\u001b[0m\u001b[0;34m.\u001b[0m\u001b[0mzeros\u001b[0m\u001b[0;34m(\u001b[0m\u001b[0;36m7\u001b[0m\u001b[0;34m)\u001b[0m\u001b[0;34m]\u001b[0m\u001b[0;34m\u001b[0m\u001b[0m\n\u001b[0;32m----> 3\u001b[0;31m \u001b[0mprint\u001b[0m\u001b[0;34m(\u001b[0m\u001b[0mLtt\u001b[0m\u001b[0;34m.\u001b[0m\u001b[0mdot\u001b[0m\u001b[0;34m(\u001b[0m\u001b[0mb\u001b[0m\u001b[0;34m)\u001b[0m\u001b[0;34m.\u001b[0m\u001b[0mshape\u001b[0m\u001b[0;34m)\u001b[0m\u001b[0;34m\u001b[0m\u001b[0m\n\u001b[0m",
      "\u001b[0;31mValueError\u001b[0m: shapes (33,) and (21,) not aligned: 33 (dim 0) != 21 (dim 0)"
     ]
    }
   ],
   "source": [
    "a = np.concatenate([np.zeros(7), np.zeros(7)])\n",
    "b = np.r_[a, np.zeros(7)]\n",
    "print(Ltt.dot(b).shape)"
   ]
  },
  {
   "cell_type": "code",
   "execution_count": 54,
   "metadata": {},
   "outputs": [
    {
     "name": "stdout",
     "output_type": "stream",
     "text": [
      "nan\n"
     ]
    }
   ],
   "source": [
    "a = np.empty([66]).dot(np.empty([66]))\n",
    "print(a)"
   ]
  },
  {
   "cell_type": "code",
   "execution_count": 74,
   "metadata": {},
   "outputs": [
    {
     "name": "stdout",
     "output_type": "stream",
     "text": [
      "(33, 33)\n",
      "(40, 40)\n"
     ]
    },
    {
     "ename": "NameError",
     "evalue": "name 'lx' is not defined",
     "output_type": "error",
     "traceback": [
      "\u001b[0;31m---------------------------------------------------------------------------\u001b[0m",
      "\u001b[0;31mNameError\u001b[0m                                 Traceback (most recent call last)",
      "\u001b[0;32m<ipython-input-74-423f8be370b8>\u001b[0m in \u001b[0;36m<module>\u001b[0;34m()\u001b[0m\n\u001b[1;32m     24\u001b[0m \u001b[0mprint\u001b[0m\u001b[0;34m(\u001b[0m\u001b[0mCm_robust\u001b[0m\u001b[0;34m.\u001b[0m\u001b[0mshape\u001b[0m\u001b[0;34m)\u001b[0m\u001b[0;34m\u001b[0m\u001b[0m\n\u001b[1;32m     25\u001b[0m \u001b[0;34m\u001b[0m\u001b[0m\n\u001b[0;32m---> 26\u001b[0;31m \u001b[0mcv\u001b[0m \u001b[0;34m=\u001b[0m \u001b[0mnp\u001b[0m\u001b[0;34m.\u001b[0m\u001b[0mc_\u001b[0m\u001b[0;34m[\u001b[0m\u001b[0mlx\u001b[0m\u001b[0;34m,\u001b[0m \u001b[0mlu\u001b[0m\u001b[0;34m]\u001b[0m\u001b[0;34m\u001b[0m\u001b[0m\n\u001b[0m\u001b[1;32m     27\u001b[0m \u001b[0;34m\u001b[0m\u001b[0m\n\u001b[1;32m     28\u001b[0m \u001b[0mprint\u001b[0m\u001b[0;34m(\u001b[0m\u001b[0;34m'cv: '\u001b[0m\u001b[0;34m,\u001b[0m \u001b[0mcv\u001b[0m\u001b[0;34m.\u001b[0m\u001b[0mshape\u001b[0m\u001b[0;34m)\u001b[0m\u001b[0;34m\u001b[0m\u001b[0m\n",
      "\u001b[0;31mNameError\u001b[0m: name 'lx' is not defined"
     ]
    }
   ],
   "source": [
    "import numpy as np\n",
    "\n",
    "dX, dU, dV = 26, 7, 7\n",
    "lx = np.empty((dX))\n",
    "lu = np.empty((dU))\n",
    "lv = np.empty_like(lu)\n",
    "\n",
    "lxx = np.empty((dX, dX))\n",
    "lux = np.empty((dU, dX))\n",
    "lvx = np.empty((dV, dX))\n",
    "luv = np.empty((dU, dV))\n",
    "luu = np.empty((dU, dU))\n",
    "lvv = np.empty_like(luu)\n",
    "\n",
    "Cm = np.concatenate(\n",
    "        (np.c_[lxx, np.transpose(lux, [1, 0])], np.c_[lux, luu]),\n",
    "        axis=0\n",
    ")\n",
    "\n",
    "print(Cm.shape)\n",
    "Cm_robust = np.concatenate(\n",
    "        (np.c_[lxx, np.transpose(lux, [1, 0]), \n",
    "               np.transpose(lvx, [1,0])],\n",
    "         np.c_[lux, luu, luv],\n",
    "         np.c_[lvx, np.transpose(luv, [1,0]), lvv]),\n",
    "        axis=0\n",
    ")\n",
    "print(Cm_robust.shape)\n",
    "\n",
    "cv = np.c_[lx, lu]\n",
    "\n",
    "print('cv: ', cv.shape)"
   ]
  },
  {
   "cell_type": "code",
   "execution_count": 64,
   "metadata": {},
   "outputs": [
    {
     "name": "stdout",
     "output_type": "stream",
     "text": [
      "(26, 33) (7, 33)\n"
     ]
    }
   ],
   "source": [
    "a = np.c_[lxx, np.transpose(lux, [1, 0])]\n",
    "b = np.c_[lux, luu]\n",
    "print(a.shape, b.shape)"
   ]
  },
  {
   "cell_type": "code",
   "execution_count": 66,
   "metadata": {},
   "outputs": [
    {
     "name": "stdout",
     "output_type": "stream",
     "text": [
      "Help on RClass in module numpy.lib.index_tricks object:\n",
      "\n",
      "class RClass(AxisConcatenator)\n",
      " |  Translates slice objects to concatenation along the first axis.\n",
      " |  \n",
      " |  This is a simple way to build up arrays quickly. There are two use cases.\n",
      " |  \n",
      " |  1. If the index expression contains comma separated arrays, then stack\n",
      " |     them along their first axis.\n",
      " |  2. If the index expression contains slice notation or scalars then create\n",
      " |     a 1-D array with a range indicated by the slice notation.\n",
      " |  \n",
      " |  If slice notation is used, the syntax ``start:stop:step`` is equivalent\n",
      " |  to ``np.arange(start, stop, step)`` inside of the brackets. However, if\n",
      " |  ``step`` is an imaginary number (i.e. 100j) then its integer portion is\n",
      " |  interpreted as a number-of-points desired and the start and stop are\n",
      " |  inclusive. In other words ``start:stop:stepj`` is interpreted as\n",
      " |  ``np.linspace(start, stop, step, endpoint=1)`` inside of the brackets.\n",
      " |  After expansion of slice notation, all comma separated sequences are\n",
      " |  concatenated together.\n",
      " |  \n",
      " |  Optional character strings placed as the first element of the index\n",
      " |  expression can be used to change the output. The strings 'r' or 'c' result\n",
      " |  in matrix output. If the result is 1-D and 'r' is specified a 1 x N (row)\n",
      " |  matrix is produced. If the result is 1-D and 'c' is specified, then a N x 1\n",
      " |  (column) matrix is produced. If the result is 2-D then both provide the\n",
      " |  same matrix result.\n",
      " |  \n",
      " |  A string integer specifies which axis to stack multiple comma separated\n",
      " |  arrays along. A string of two comma-separated integers allows indication\n",
      " |  of the minimum number of dimensions to force each entry into as the\n",
      " |  second integer (the axis to concatenate along is still the first integer).\n",
      " |  \n",
      " |  A string with three comma-separated integers allows specification of the\n",
      " |  axis to concatenate along, the minimum number of dimensions to force the\n",
      " |  entries to, and which axis should contain the start of the arrays which\n",
      " |  are less than the specified number of dimensions. In other words the third\n",
      " |  integer allows you to specify where the 1's should be placed in the shape\n",
      " |  of the arrays that have their shapes upgraded. By default, they are placed\n",
      " |  in the front of the shape tuple. The third argument allows you to specify\n",
      " |  where the start of the array should be instead. Thus, a third argument of\n",
      " |  '0' would place the 1's at the end of the array shape. Negative integers\n",
      " |  specify where in the new shape tuple the last dimension of upgraded arrays\n",
      " |  should be placed, so the default is '-1'.\n",
      " |  \n",
      " |  Parameters\n",
      " |  ----------\n",
      " |  Not a function, so takes no parameters\n",
      " |  \n",
      " |  \n",
      " |  Returns\n",
      " |  -------\n",
      " |  A concatenated ndarray or matrix.\n",
      " |  \n",
      " |  See Also\n",
      " |  --------\n",
      " |  concatenate : Join a sequence of arrays along an existing axis.\n",
      " |  c_ : Translates slice objects to concatenation along the second axis.\n",
      " |  \n",
      " |  Examples\n",
      " |  --------\n",
      " |  >>> np.r_[np.array([1,2,3]), 0, 0, np.array([4,5,6])]\n",
      " |  array([1, 2, 3, 0, 0, 4, 5, 6])\n",
      " |  >>> np.r_[-1:1:6j, [0]*3, 5, 6]\n",
      " |  array([-1. , -0.6, -0.2,  0.2,  0.6,  1. ,  0. ,  0. ,  0. ,  5. ,  6. ])\n",
      " |  \n",
      " |  String integers specify the axis to concatenate along or the minimum\n",
      " |  number of dimensions to force entries into.\n",
      " |  \n",
      " |  >>> a = np.array([[0, 1, 2], [3, 4, 5]])\n",
      " |  >>> np.r_['-1', a, a] # concatenate along last axis\n",
      " |  array([[0, 1, 2, 0, 1, 2],\n",
      " |         [3, 4, 5, 3, 4, 5]])\n",
      " |  >>> np.r_['0,2', [1,2,3], [4,5,6]] # concatenate along first axis, dim>=2\n",
      " |  array([[1, 2, 3],\n",
      " |         [4, 5, 6]])\n",
      " |  \n",
      " |  >>> np.r_['0,2,0', [1,2,3], [4,5,6]]\n",
      " |  array([[1],\n",
      " |         [2],\n",
      " |         [3],\n",
      " |         [4],\n",
      " |         [5],\n",
      " |         [6]])\n",
      " |  >>> np.r_['1,2,0', [1,2,3], [4,5,6]]\n",
      " |  array([[1, 4],\n",
      " |         [2, 5],\n",
      " |         [3, 6]])\n",
      " |  \n",
      " |  Using 'r' or 'c' as a first string argument creates a matrix.\n",
      " |  \n",
      " |  >>> np.r_['r',[1,2,3], [4,5,6]]\n",
      " |  matrix([[1, 2, 3, 4, 5, 6]])\n",
      " |  \n",
      " |  Method resolution order:\n",
      " |      RClass\n",
      " |      AxisConcatenator\n",
      " |      builtins.object\n",
      " |  \n",
      " |  Methods defined here:\n",
      " |  \n",
      " |  __init__(self)\n",
      " |      Initialize self.  See help(type(self)) for accurate signature.\n",
      " |  \n",
      " |  ----------------------------------------------------------------------\n",
      " |  Methods inherited from AxisConcatenator:\n",
      " |  \n",
      " |  __getitem__(self, key)\n",
      " |  \n",
      " |  __getslice__(self, i, j)\n",
      " |  \n",
      " |  __len__(self)\n",
      " |  \n",
      " |  ----------------------------------------------------------------------\n",
      " |  Data descriptors inherited from AxisConcatenator:\n",
      " |  \n",
      " |  __dict__\n",
      " |      dictionary for instance variables (if defined)\n",
      " |  \n",
      " |  __weakref__\n",
      " |      list of weak references to the object (if defined)\n",
      "\n"
     ]
    }
   ],
   "source": [
    "help(np.r_)"
   ]
  },
  {
   "cell_type": "code",
   "execution_count": null,
   "metadata": {
    "collapsed": true
   },
   "outputs": [],
   "source": []
  }
 ],
 "metadata": {
  "kernelspec": {
   "display_name": "Python 3",
   "language": "python",
   "name": "python3"
  },
  "language_info": {
   "codemirror_mode": {
    "name": "ipython",
    "version": 3
   },
   "file_extension": ".py",
   "mimetype": "text/x-python",
   "name": "python",
   "nbconvert_exporter": "python",
   "pygments_lexer": "ipython3",
   "version": "3.6.1"
  }
 },
 "nbformat": 4,
 "nbformat_minor": 2
}
