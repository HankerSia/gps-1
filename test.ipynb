{
 "cells": [
  {
   "cell_type": "code",
   "execution_count": 81,
   "metadata": {},
   "outputs": [
    {
     "name": "stdout",
     "output_type": "stream",
     "text": [
      "('Cm : (100, 33, 40) temp', (100, 26, 33))\n",
      "(100, 26, 40)\n",
      "(100, 7, 40)\n",
      "(100, 7, 40)\n",
      "('Cm temp: ', (100, 33, 40))\n",
      "('Cm2 shape', (100, 40, 40))\n",
      "cs: (10, 100), cv: (10, 100, 40), Cm: (10, 100, 40, 40)\n"
     ]
    }
   ],
   "source": [
    "import numpy as np\n",
    "N, T, dX, dU,dV = 10, 100,26, 7, 7\n",
    "\n",
    "l = np.zeros(T)\n",
    "lu = np.zeros((T, dU))\n",
    "lv = np.zeros((T, dV))\n",
    "lx = np.zeros((T, dX))\n",
    "luu = np.zeros((T, dU, dU))\n",
    "lvv = np.zeros((T, dU, dV))\n",
    "lxx = np.zeros((T, dX, dX))\n",
    "lux = np.zeros((T, dU, dX))\n",
    "lvx = np.zeros((T, dV, dX))\n",
    "\n",
    "# Compute cost.\n",
    "cs = np.zeros((N, T))  # see algorithm_utils.py\n",
    "cc = np.zeros((N, T))   # Cost estimate constant term.\n",
    "cv = np.zeros((N, T, dX+dU+dV))    # Cost estimate vector term.\n",
    "Cm = np.zeros((N, T, dX+dU+dV, dX+dU+dV)) # Cost estimate matrix term.\n",
    "\n",
    "term1 = np.c_[lxx, np.transpose(lux, [0, 2, 1]), np.transpose(lvx, [0, 2, 1])]\n",
    "term2 = np.c_[lux, luu, lvv]\n",
    "cv_temp = np.c_[lx, lu,  lv]\n",
    "term3 = np.c_[lvx, lvv]\n",
    "Cm_ord = np.concatenate(\n",
    "                (np.c_[lxx, np.transpose(lux, [0, 2, 1])], np.c_[lux, luu]),\n",
    "                axis=1\n",
    "            )\n",
    "Cm_temp = np.concatenate(\n",
    "            (np.c_[lxx, np.transpose(lux, [0, 2, 1]), np.transpose(lvx, [0, 2, 1])], np.c_[lux, luu, lvv]),\n",
    "            axis=1\n",
    "        )   \n",
    "Cm2 = np.concatenate((Cm_temp, np.c_[lvx, lvv, luu],), axis=1)\n",
    "# # print('term1: {}, Cm: {}, term2: {}, term3: {}'.format(term1.shape, Cm.shape, term2.shape, term3.shape))\n",
    "print('Cm : {} temp'.format(Cm_temp.shape), np.c_[lxx, np.transpose(lux, [0, 2, 1])].shape)\n",
    "print(np.c_[lxx, np.transpose(lux, [0, 2, 1]), np.transpose(lvx, [0, 2, 1])].shape)\n",
    "print(np.c_[lux, luu, lvv].shape)\n",
    "print(np.c_[lvx, lvv, luu].shape)\n",
    "print('Cm temp: ', Cm_temp.shape)\n",
    "print('Cm2 shape', Cm2.shape)\n",
    "for n in range(N):\n",
    "    cc[n, :] = l\n",
    "    cs[n, :] = l\n",
    "    cv[n,:,:] = np.c_[lx, lu,  lv]\n",
    "    Cm_temp = np.concatenate(\n",
    "            (np.c_[lxx, np.transpose(lux, [0, 2, 1]), np.transpose(lvx, [0, 2, 1])], np.c_[lux, luu, lvv]),\n",
    "            axis=1\n",
    "        )     \n",
    "    Cm[n, :, :, :] = np.concatenate((Cm_temp, np.c_[lvx, lvv, luu],), axis=1)\n",
    "\n",
    "print('cs: {}, cv: {}, Cm: {}'.format(cs.shape, cv.shape, Cm.shape))"
   ]
  },
  {
   "cell_type": "code",
   "execution_count": 18,
   "metadata": {},
   "outputs": [
    {
     "data": {
      "text/plain": [
       "40"
      ]
     },
     "execution_count": 18,
     "metadata": {},
     "output_type": "execute_result"
    }
   ],
   "source": [
    "\n",
    "26+7+7\n"
   ]
  },
  {
   "cell_type": "code",
   "execution_count": 26,
   "metadata": {},
   "outputs": [
    {
     "data": {
      "text/plain": [
       "(100, 7, 7)"
      ]
     },
     "execution_count": 26,
     "metadata": {},
     "output_type": "execute_result"
    }
   ],
   "source": [
    "gamma, T = 1e-2, 100\n",
    "b = np.diag(2 * gamma * np.ones(7))\n",
    "b = np.tile(b, [T, 1, 1])\n",
    "b.shape"
   ]
  },
  {
   "cell_type": "code",
   "execution_count": 29,
   "metadata": {},
   "outputs": [
    {
     "name": "stdout",
     "output_type": "stream",
     "text": [
      "True\n"
     ]
    }
   ],
   "source": [
    "c = np.empty_like(b)\n",
    "c = [1, 2, 3,4]\n",
    "if isinstance(c, list):\n",
    "    print(isinstance(c, list))\n",
    "else:\n",
    "    print('not a list')"
   ]
  },
  {
   "cell_type": "code",
   "execution_count": null,
   "metadata": {
    "collapsed": true
   },
   "outputs": [],
   "source": []
  }
 ],
 "metadata": {
  "kernelspec": {
   "display_name": "Python 2",
   "language": "python",
   "name": "python2"
  },
  "language_info": {
   "codemirror_mode": {
    "name": "ipython",
    "version": 2
   },
   "file_extension": ".py",
   "mimetype": "text/x-python",
   "name": "python",
   "nbconvert_exporter": "python",
   "pygments_lexer": "ipython2",
   "version": "2.7.13"
  }
 },
 "nbformat": 4,
 "nbformat_minor": 2
}
