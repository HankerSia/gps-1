{
 "cells": [
  {
   "cell_type": "code",
   "execution_count": 81,
   "metadata": {},
   "outputs": [
    {
     "name": "stdout",
     "output_type": "stream",
     "text": [
      "('Cm : (100, 33, 40) temp', (100, 26, 33))\n",
      "(100, 26, 40)\n",
      "(100, 7, 40)\n",
      "(100, 7, 40)\n",
      "('Cm temp: ', (100, 33, 40))\n",
      "('Cm2 shape', (100, 40, 40))\n",
      "cs: (10, 100), cv: (10, 100, 40), Cm: (10, 100, 40, 40)\n"
     ]
    }
   ],
   "source": [
    "import numpy as np\n",
    "N, T, dX, dU,dV = 10, 100,26, 7, 7\n",
    "\n",
    "l = np.zeros(T)\n",
    "lu = np.zeros((T, dU))\n",
    "lv = np.zeros((T, dV))\n",
    "lx = np.zeros((T, dX))\n",
    "luu = np.zeros((T, dU, dU))\n",
    "lvv = np.zeros((T, dU, dV))\n",
    "lxx = np.zeros((T, dX, dX))\n",
    "lux = np.zeros((T, dU, dX))\n",
    "lvx = np.zeros((T, dV, dX))\n",
    "\n",
    "# Compute cost.\n",
    "cs = np.zeros((N, T))  # see algorithm_utils.py\n",
    "cc = np.zeros((N, T))   # Cost estimate constant term.\n",
    "cv = np.zeros((N, T, dX+dU+dV))    # Cost estimate vector term.\n",
    "Cm = np.zeros((N, T, dX+dU+dV, dX+dU+dV)) # Cost estimate matrix term.\n",
    "\n",
    "term1 = np.c_[lxx, np.transpose(lux, [0, 2, 1]), np.transpose(lvx, [0, 2, 1])]\n",
    "term2 = np.c_[lux, luu, lvv]\n",
    "cv_temp = np.c_[lx, lu,  lv]\n",
    "term3 = np.c_[lvx, lvv]\n",
    "Cm_ord = np.concatenate(\n",
    "                (np.c_[lxx, np.transpose(lux, [0, 2, 1])], np.c_[lux, luu]),\n",
    "                axis=1\n",
    "            )\n",
    "Cm_temp = np.concatenate(\n",
    "            (np.c_[lxx, np.transpose(lux, [0, 2, 1]), np.transpose(lvx, [0, 2, 1])], np.c_[lux, luu, lvv]),\n",
    "            axis=1\n",
    "        )   \n",
    "Cm2 = np.concatenate((Cm_temp, np.c_[lvx, lvv, luu],), axis=1)\n",
    "# # print('term1: {}, Cm: {}, term2: {}, term3: {}'.format(term1.shape, Cm.shape, term2.shape, term3.shape))\n",
    "print('Cm : {} temp'.format(Cm_temp.shape), np.c_[lxx, np.transpose(lux, [0, 2, 1])].shape)\n",
    "print(np.c_[lxx, np.transpose(lux, [0, 2, 1]), np.transpose(lvx, [0, 2, 1])].shape)\n",
    "print(np.c_[lux, luu, lvv].shape)\n",
    "print(np.c_[lvx, lvv, luu].shape)\n",
    "print('Cm temp: ', Cm_temp.shape)\n",
    "print('Cm2 shape', Cm2.shape)\n",
    "for n in range(N):\n",
    "    cc[n, :] = l\n",
    "    cs[n, :] = l\n",
    "    cv[n,:,:] = np.c_[lx, lu,  lv]\n",
    "    Cm_temp = np.concatenate(\n",
    "            (np.c_[lxx, np.transpose(lux, [0, 2, 1]), np.transpose(lvx, [0, 2, 1])], np.c_[lux, luu, lvv]),\n",
    "            axis=1\n",
    "        )     \n",
    "    Cm[n, :, :, :] = np.concatenate((Cm_temp, np.c_[lvx, lvv, luu],), axis=1)\n",
    "\n",
    "print('cs: {}, cv: {}, Cm: {}'.format(cs.shape, cv.shape, Cm.shape))"
   ]
  },
  {
   "cell_type": "code",
   "execution_count": 64,
   "metadata": {},
   "outputs": [
    {
     "name": "stdout",
     "output_type": "stream",
     "text": [
      "('Ltt: ', (33, 33))\n",
      "('Ltt2: ', (66, 66))\n",
      "((14,), (21,))\n"
     ]
    },
    {
     "ename": "ValueError",
     "evalue": "shapes (33,33) and (21,) not aligned: 33 (dim 1) != 21 (dim 0)",
     "output_type": "error",
     "traceback": [
      "\u001b[0;31m---------------------------------------------------------------------------\u001b[0m",
      "\u001b[0;31mValueError\u001b[0m                                Traceback (most recent call last)",
      "\u001b[0;32m<ipython-input-64-8d76d9d26e41>\u001b[0m in \u001b[0;36m<module>\u001b[0;34m()\u001b[0m\n\u001b[1;32m     22\u001b[0m                      np.zeros(7)])\n\u001b[1;32m     23\u001b[0m \u001b[0;32mprint\u001b[0m\u001b[0;34m(\u001b[0m\u001b[0mx0\u001b[0m\u001b[0;34m.\u001b[0m\u001b[0mshape\u001b[0m\u001b[0;34m,\u001b[0m \u001b[0mnp\u001b[0m\u001b[0;34m.\u001b[0m\u001b[0mr_\u001b[0m\u001b[0;34m[\u001b[0m\u001b[0mx0\u001b[0m\u001b[0;34m,\u001b[0m \u001b[0mnp\u001b[0m\u001b[0;34m.\u001b[0m\u001b[0mzeros\u001b[0m\u001b[0;34m(\u001b[0m\u001b[0mdU\u001b[0m\u001b[0;34m)\u001b[0m\u001b[0;34m]\u001b[0m\u001b[0;34m.\u001b[0m\u001b[0mshape\u001b[0m\u001b[0;34m)\u001b[0m\u001b[0;34m\u001b[0m\u001b[0m\n\u001b[0;32m---> 24\u001b[0;31m \u001b[0mlt\u001b[0m \u001b[0;34m=\u001b[0m \u001b[0;34m-\u001b[0m\u001b[0mLtt\u001b[0m\u001b[0;34m.\u001b[0m\u001b[0mdot\u001b[0m\u001b[0;34m(\u001b[0m\u001b[0mnp\u001b[0m\u001b[0;34m.\u001b[0m\u001b[0mr_\u001b[0m\u001b[0;34m[\u001b[0m\u001b[0mx0\u001b[0m\u001b[0;34m,\u001b[0m \u001b[0mnp\u001b[0m\u001b[0;34m.\u001b[0m\u001b[0mzeros\u001b[0m\u001b[0;34m(\u001b[0m\u001b[0mdU\u001b[0m\u001b[0;34m)\u001b[0m\u001b[0;34m]\u001b[0m\u001b[0;34m)\u001b[0m\u001b[0;34m\u001b[0m\u001b[0m\n\u001b[0m",
      "\u001b[0;31mValueError\u001b[0m: shapes (33,33) and (21,) not aligned: 33 (dim 1) != 21 (dim 0)"
     ]
    }
   ],
   "source": [
    "import numpy as np\n",
    "\n",
    "dX, dU, dV = 26, 7, 7\n",
    "\n",
    "Ltt = np.diag(np.hstack([\n",
    "     np.ones(dU),\n",
    "       np.ones(dU),\n",
    "    np.zeros(dX - dU*2), np.ones(dU)\n",
    "]))\n",
    "\n",
    "Ltt2 = np.diag(np.hstack([\n",
    "     np.ones(dU),\n",
    "     np.ones(dU),\n",
    "     np.ones(dV),\n",
    "     np.ones(dV),\n",
    "    np.zeros(dX - dU*2), np.ones(dU),\n",
    "    np.zeros(dX - dV*2), np.ones(dV)])\n",
    "              )\n",
    "print('Ltt: ', Ltt.shape)\n",
    "print('Ltt2: ', Ltt2.shape)\n",
    "x0 = np.concatenate([np.array([0.1, 0.1, -1.54, -1.7, 1.54, -0.2, 0]),\n",
    "                     np.zeros(7)])\n",
    "print(x0.shape, np.r_[x0, np.zeros(dU)].shape)\n",
    "lt = -Ltt.dot(np.r_[x0, np.zeros(dU)])"
   ]
  },
  {
   "cell_type": "code",
   "execution_count": 68,
   "metadata": {},
   "outputs": [
    {
     "name": "stdout",
     "output_type": "stream",
     "text": [
      "fc: (26,), Fd: (26, 33), Fdr: (26, 40), fcr: (26,)\n"
     ]
    }
   ],
   "source": [
    "import numpy as np\n",
    "dX, dU, dV = 26, 7, 7\n",
    "dt = 0.1\n",
    "gains = 1.0/np.array([3.09, 1.08, 0.393, 0.674, 0.111, 0.152, 0.098])\n",
    "Fd = np.vstack([\n",
    "        np.hstack([\n",
    "            np.eye(dU), dt * np.eye(dU), np.zeros((dU, dX - dU*2)),\n",
    "            dt ** 2 * np.diag(gains)\n",
    "        ]),\n",
    "        np.hstack([\n",
    "            np.zeros((dU, dU)), np.eye(dU), np.zeros((dU, dX - dU*2)),\n",
    "            dt * np.diag(gains)\n",
    "        ]),\n",
    "        np.zeros((dX - dU*2, dX+dU))\n",
    "    ])\n",
    "acc = np.zeros(7)\n",
    "fc = np.hstack([acc * dt ** 2, acc * dt, np.zeros((dX - dU*2))])\n",
    "\n",
    "Fdr = np.vstack([\n",
    "        np.hstack([\n",
    "            np.eye(dU), dt * np.eye(dU), np.zeros((dU, dX - dU*2)),\n",
    "            dt ** 2 * np.diag(gains),\n",
    "            np.eye(dV), #dt * np.eye(dV), np.zeros((dV, dX - dV*2)),\n",
    "           # dt ** 2 * np.diag(gains),\n",
    "        ]),\n",
    "        np.hstack([\n",
    "            np.zeros((dU, dU)), np.eye(dU), np.zeros((dU, dX - dU*2)),\n",
    "            dt * np.diag(gains),\n",
    "            np.zeros((dV, dV)), #np.eye(dV), np.zeros((dV, dX - dV*2)),\n",
    "            #dt ** 2 * np.diag(gains),\n",
    "        ]),\n",
    "       np.zeros((dX - dU*2, dX+dU+dV))\n",
    "    ])\n",
    "fcr = np.hstack([acc * dt ** 2, acc * dt, np.zeros((dX - dU*2))])\n",
    "print('fc: {}, Fd: {}, Fdr: {}, fcr: {}'.format(fc.shape, Fd.shape, Fdr.shape, fcr.shape))"
   ]
  },
  {
   "cell_type": "code",
   "execution_count": 17,
   "metadata": {},
   "outputs": [
    {
     "data": {
      "text/plain": [
       "array([ 1.,  1.,  1.,  1.,  1.,  1.,  1.])"
      ]
     },
     "execution_count": 17,
     "metadata": {},
     "output_type": "execute_result"
    }
   ],
   "source": [
    "gains = np.ones((7,))\n",
    "gains"
   ]
  },
  {
   "cell_type": "code",
   "execution_count": 69,
   "metadata": {},
   "outputs": [
    {
     "ename": "AttributeError",
     "evalue": "'module' object has no attribute 'linalg'",
     "output_type": "error",
     "traceback": [
      "\u001b[0;31m---------------------------------------------------------------------------\u001b[0m",
      "\u001b[0;31mAttributeError\u001b[0m                            Traceback (most recent call last)",
      "\u001b[0;32m<ipython-input-69-0638f78a3677>\u001b[0m in \u001b[0;36m<module>\u001b[0;34m()\u001b[0m\n\u001b[1;32m      1\u001b[0m \u001b[0;32mimport\u001b[0m \u001b[0mscipy\u001b[0m \u001b[0;32mas\u001b[0m \u001b[0msp\u001b[0m\u001b[0;34m\u001b[0m\u001b[0m\n\u001b[0;32m----> 2\u001b[0;31m \u001b[0mhelp\u001b[0m\u001b[0;34m(\u001b[0m\u001b[0msp\u001b[0m\u001b[0;34m.\u001b[0m\u001b[0mlinalg\u001b[0m\u001b[0;34m.\u001b[0m\u001b[0msolve_triangular\u001b[0m\u001b[0;34m)\u001b[0m\u001b[0;34m\u001b[0m\u001b[0m\n\u001b[0m",
      "\u001b[0;31mAttributeError\u001b[0m: 'module' object has no attribute 'linalg'"
     ]
    }
   ],
   "source": [
    "import scipy as sp\n",
    "help(sp.linalg.solve_triangular)"
   ]
  },
  {
   "cell_type": "code",
   "execution_count": null,
   "metadata": {
    "collapsed": true
   },
   "outputs": [],
   "source": []
  }
 ],
 "metadata": {
  "kernelspec": {
   "display_name": "Python 2",
   "language": "python",
   "name": "python2"
  },
  "language_info": {
   "codemirror_mode": {
    "name": "ipython",
    "version": 2
   },
   "file_extension": ".py",
   "mimetype": "text/x-python",
   "name": "python",
   "nbconvert_exporter": "python",
   "pygments_lexer": "ipython2",
   "version": "2.7.13"
  }
 },
 "nbformat": 4,
 "nbformat_minor": 2
}
