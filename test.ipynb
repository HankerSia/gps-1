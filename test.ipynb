{
 "cells": [
  {
   "cell_type": "code",
   "execution_count": 81,
   "metadata": {},
   "outputs": [
    {
     "name": "stdout",
     "output_type": "stream",
     "text": [
      "('Cm : (100, 33, 40) temp', (100, 26, 33))\n",
      "(100, 26, 40)\n",
      "(100, 7, 40)\n",
      "(100, 7, 40)\n",
      "('Cm temp: ', (100, 33, 40))\n",
      "('Cm2 shape', (100, 40, 40))\n",
      "cs: (10, 100), cv: (10, 100, 40), Cm: (10, 100, 40, 40)\n"
     ]
    }
   ],
   "source": [
    "import numpy as np\n",
    "N, T, dX, dU,dV = 10, 100,26, 7, 7\n",
    "\n",
    "l = np.zeros(T)\n",
    "lu = np.zeros((T, dU))\n",
    "lv = np.zeros((T, dV))\n",
    "lx = np.zeros((T, dX))\n",
    "luu = np.zeros((T, dU, dU))\n",
    "lvv = np.zeros((T, dU, dV))\n",
    "lxx = np.zeros((T, dX, dX))\n",
    "lux = np.zeros((T, dU, dX))\n",
    "lvx = np.zeros((T, dV, dX))\n",
    "\n",
    "# Compute cost.\n",
    "cs = np.zeros((N, T))  # see algorithm_utils.py\n",
    "cc = np.zeros((N, T))   # Cost estimate constant term.\n",
    "cv = np.zeros((N, T, dX+dU+dV))    # Cost estimate vector term.\n",
    "Cm = np.zeros((N, T, dX+dU+dV, dX+dU+dV)) # Cost estimate matrix term.\n",
    "\n",
    "term1 = np.c_[lxx, np.transpose(lux, [0, 2, 1]), np.transpose(lvx, [0, 2, 1])]\n",
    "term2 = np.c_[lux, luu, lvv]\n",
    "cv_temp = np.c_[lx, lu,  lv]\n",
    "term3 = np.c_[lvx, lvv]\n",
    "Cm_ord = np.concatenate(\n",
    "                (np.c_[lxx, np.transpose(lux, [0, 2, 1])], np.c_[lux, luu]),\n",
    "                axis=1\n",
    "            )\n",
    "Cm_temp = np.concatenate(\n",
    "            (np.c_[lxx, np.transpose(lux, [0, 2, 1]), np.transpose(lvx, [0, 2, 1])], np.c_[lux, luu, lvv]),\n",
    "            axis=1\n",
    "        )   \n",
    "Cm2 = np.concatenate((Cm_temp, np.c_[lvx, lvv, luu],), axis=1)\n",
    "# # print('term1: {}, Cm: {}, term2: {}, term3: {}'.format(term1.shape, Cm.shape, term2.shape, term3.shape))\n",
    "print('Cm : {} temp'.format(Cm_temp.shape), np.c_[lxx, np.transpose(lux, [0, 2, 1])].shape)\n",
    "print(np.c_[lxx, np.transpose(lux, [0, 2, 1]), np.transpose(lvx, [0, 2, 1])].shape)\n",
    "print(np.c_[lux, luu, lvv].shape)\n",
    "print(np.c_[lvx, lvv, luu].shape)\n",
    "print('Cm temp: ', Cm_temp.shape)\n",
    "print('Cm2 shape', Cm2.shape)\n",
    "for n in range(N):\n",
    "    cc[n, :] = l\n",
    "    cs[n, :] = l\n",
    "    cv[n,:,:] = np.c_[lx, lu,  lv]\n",
    "    Cm_temp = np.concatenate(\n",
    "            (np.c_[lxx, np.transpose(lux, [0, 2, 1]), np.transpose(lvx, [0, 2, 1])], np.c_[lux, luu, lvv]),\n",
    "            axis=1\n",
    "        )     \n",
    "    Cm[n, :, :, :] = np.concatenate((Cm_temp, np.c_[lvx, lvv, luu],), axis=1)\n",
    "\n",
    "print('cs: {}, cv: {}, Cm: {}'.format(cs.shape, cv.shape, Cm.shape))"
   ]
  },
  {
   "cell_type": "code",
   "execution_count": 71,
   "metadata": {},
   "outputs": [
    {
     "name": "stdout",
     "output_type": "stream",
     "text": [
      "('Ltt: ', (33, 33))\n",
      "('Ltt2: ', (40, 40))\n"
     ]
    }
   ],
   "source": [
    "import numpy as np\n",
    "\n",
    "dX, dU, dV = 26, 7, 7\n",
    "\n",
    "Ltt = np.diag(np.hstack([\n",
    "     np.ones(dU),\n",
    "       np.ones(dU),\n",
    "    np.zeros(dX - dU*2), np.ones(dU)\n",
    "]))\n",
    "\n",
    "Ltt2 = np.diag(np.hstack([\n",
    "     np.ones(dU),\n",
    "     np.ones(dU),\n",
    "    np.zeros(dX - dU*2), np.ones(dU),\n",
    "     np.ones(dV)])\n",
    "              )\n",
    "print('Ltt: ', Ltt.shape)\n",
    "print('Ltt2: ', Ltt2.shape)\n",
    "# x0 = np.concatenate([np.array([0.1, 0.1, -1.54, -1.7, 1.54, -0.2, 0]),\n",
    "#                      np.zeros(7)])\n",
    "# print(x0.shape, np.r_[x0, np.zeros(dU)].shape)\n",
    "# lt = -Ltt.dot(np.r_[x0, np.zeros(dU)])"
   ]
  },
  {
   "cell_type": "code",
   "execution_count": 72,
   "metadata": {},
   "outputs": [
    {
     "name": "stdout",
     "output_type": "stream",
     "text": [
      "fc: (26,), Fd: (26, 33), Fdr: (26, 40), fcr: (33,)\n"
     ]
    }
   ],
   "source": [
    "import numpy as np\n",
    "dX, dU, dV = 26, 7, 7\n",
    "dt = 0.1\n",
    "gains = 1.0/np.array([3.09, 1.08, 0.393, 0.674, 0.111, 0.152, 0.098])\n",
    "Fd = np.vstack([\n",
    "        np.hstack([\n",
    "            np.eye(dU), dt * np.eye(dU), np.zeros((dU, dX - dU*2)),\n",
    "            dt ** 2 * np.diag(gains)\n",
    "        ]),\n",
    "        np.hstack([\n",
    "            np.zeros((dU, dU)), np.eye(dU), np.zeros((dU, dX - dU*2)),\n",
    "            dt * np.diag(gains)\n",
    "        ]),\n",
    "        np.zeros((dX - dU*2, dX+dU))\n",
    "    ])\n",
    "acc = np.zeros(7)\n",
    "fc = np.hstack([acc * dt ** 2, acc * dt, np.zeros((dX - dU*2))])\n",
    "\n",
    "Fdr = np.vstack([\n",
    "        np.hstack([\n",
    "            np.eye(dU), dt * np.eye(dU), np.zeros((dU, dX - dU*2)),\n",
    "            dt ** 2 * np.diag(gains),\n",
    "            np.eye(dV), #dt * np.eye(dV), np.zeros((dV, dX - dV*2)),\n",
    "           # dt ** 2 * np.diag(gains),\n",
    "        ]),\n",
    "        np.hstack([\n",
    "            np.zeros((dU, dU)), np.eye(dU), np.zeros((dU, dX - dU*2)),\n",
    "            dt * np.diag(gains),\n",
    "            np.zeros((dV, dV)), #np.eye(dV), np.zeros((dV, dX - dV*2)),\n",
    "            #dt ** 2 * np.diag(gains),\n",
    "        ]),\n",
    "       np.zeros((dX - dU*2, dX+dU+dV))\n",
    "    ])\n",
    "fcr = np.hstack([acc * dt ** 2, acc * dt, np.zeros((dX - dU))])\n",
    "print('fc: {}, Fd: {}, Fdr: {}, fcr: {}'.format(fc.shape, Fd.shape, Fdr.shape, fcr.shape))"
   ]
  },
  {
   "cell_type": "code",
   "execution_count": 128,
   "metadata": {},
   "outputs": [
    {
     "name": "stdout",
     "output_type": "stream",
     "text": [
      "[[ 1.  1.  1.  1.  1.  1.  1.]\n",
      " [ 1.  1.  1.  1.  1.  1.  1.]\n",
      " [ 1.  1.  1.  1.  1.  1.  1.]\n",
      " [ 1.  1.  1.  1.  1.  1.  1.]\n",
      " [ 1.  1.  1.  1.  1.  1.  1.]\n",
      " [ 2.  2.  2.  2.  2.  2.  2.]\n",
      " [ 2.  2.  2.  2.  2.  2.  2.]\n",
      " [ 2.  2.  2.  2.  2.  2.  2.]\n",
      " [ 2.  2.  2.  2.  2.  2.  2.]\n",
      " [ 2.  2.  2.  2.  2.  2.  2.]\n",
      " [ 3.  3.  3.  3.  3.  3.  3.]\n",
      " [ 3.  3.  3.  3.  3.  3.  3.]\n",
      " [ 3.  3.  3.  3.  3.  3.  3.]\n",
      " [ 3.  3.  3.  3.  3.  3.  3.]\n",
      " [ 3.  3.  3.  3.  3.  3.  3.]]\n",
      "\n",
      "(slice(15, 7, None), array([], shape=(0, 0), dtype=float64))\n"
     ]
    }
   ],
   "source": [
    "T, dU = 5, 7\n",
    "O = np.ones((T, dU))\n",
    "OO = 2*O\n",
    "OOO = 3*O\n",
    "Of = np.concatenate([O, OO, OOO], axis=0)\n",
    "\n",
    "id0 = slice(15)\n",
    "id1 = slice(15,dU)\n",
    "id2 = slice(7)\n",
    "\n",
    "Off = Of[id0, id0]\n",
    "Qxu = Of[id1, id1]\n",
    "print(Of)\n",
    "print \n",
    "print(id1, Qxu)"
   ]
  },
  {
   "cell_type": "code",
   "execution_count": 90,
   "metadata": {},
   "outputs": [
    {
     "name": "stdout",
     "output_type": "stream",
     "text": [
      "Help on class slice in module __builtin__:\n",
      "\n",
      "class slice(object)\n",
      " |  slice(stop)\n",
      " |  slice(start, stop[, step])\n",
      " |  \n",
      " |  Create a slice object.  This is used for extended slicing (e.g. a[0:10:2]).\n",
      " |  \n",
      " |  Methods defined here:\n",
      " |  \n",
      " |  __cmp__(...)\n",
      " |      x.__cmp__(y) <==> cmp(x,y)\n",
      " |  \n",
      " |  __getattribute__(...)\n",
      " |      x.__getattribute__('name') <==> x.name\n",
      " |  \n",
      " |  __hash__(...)\n",
      " |      x.__hash__() <==> hash(x)\n",
      " |  \n",
      " |  __reduce__(...)\n",
      " |      Return state information for pickling.\n",
      " |  \n",
      " |  __repr__(...)\n",
      " |      x.__repr__() <==> repr(x)\n",
      " |  \n",
      " |  indices(...)\n",
      " |      S.indices(len) -> (start, stop, stride)\n",
      " |      \n",
      " |      Assuming a sequence of length len, calculate the start and stop\n",
      " |      indices, and the stride length of the extended slice described by\n",
      " |      S. Out of bounds indices are clipped in a manner consistent with the\n",
      " |      handling of normal slices.\n",
      " |  \n",
      " |  ----------------------------------------------------------------------\n",
      " |  Data descriptors defined here:\n",
      " |  \n",
      " |  start\n",
      " |  \n",
      " |  step\n",
      " |  \n",
      " |  stop\n",
      " |  \n",
      " |  ----------------------------------------------------------------------\n",
      " |  Data and other attributes defined here:\n",
      " |  \n",
      " |  __new__ = <built-in method __new__ of type object>\n",
      " |      T.__new__(S, ...) -> a new object with type S, a subtype of T\n",
      "\n"
     ]
    }
   ],
   "source": [
    "help(slice)"
   ]
  },
  {
   "cell_type": "code",
   "execution_count": null,
   "metadata": {
    "collapsed": true
   },
   "outputs": [],
   "source": []
  }
 ],
 "metadata": {
  "kernelspec": {
   "display_name": "Python 2",
   "language": "python",
   "name": "python2"
  },
  "language_info": {
   "codemirror_mode": {
    "name": "ipython",
    "version": 2
   },
   "file_extension": ".py",
   "mimetype": "text/x-python",
   "name": "python",
   "nbconvert_exporter": "python",
   "pygments_lexer": "ipython2",
   "version": "2.7.13"
  }
 },
 "nbformat": 4,
 "nbformat_minor": 2
}
