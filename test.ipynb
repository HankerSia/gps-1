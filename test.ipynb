{
 "cells": [
  {
   "cell_type": "code",
   "execution_count": 7,
   "metadata": {},
   "outputs": [
    {
     "ename": "ValueError",
     "evalue": "operands could not be broadcast together with shapes (26,7) (7,26) ",
     "output_type": "error",
     "traceback": [
      "\u001b[0;31m-------------------------------------------------------------\u001b[0m",
      "\u001b[0;31mValueError\u001b[0m                  Traceback (most recent call last)",
      "\u001b[0;32m<ipython-input-7-579cf32abd85>\u001b[0m in \u001b[0;36m<module>\u001b[0;34m()\u001b[0m\n\u001b[1;32m      8\u001b[0m \u001b[0;34m\u001b[0m\u001b[0m\n\u001b[1;32m      9\u001b[0m \u001b[0mt3\u001b[0m \u001b[0;34m=\u001b[0m \u001b[0mvx\u001b[0m \u001b[0;34m+\u001b[0m \u001b[0;34m(\u001b[0m\u001b[0mb1\u001b[0m\u001b[0;34m)\u001b[0m\u001b[0;34m\u001b[0m\u001b[0m\n\u001b[0;32m---> 10\u001b[0;31m \u001b[0mt4\u001b[0m \u001b[0;34m=\u001b[0m \u001b[0mc1\u001b[0m \u001b[0;34m+\u001b[0m \u001b[0mt3\u001b[0m\u001b[0;34m\u001b[0m\u001b[0m\n\u001b[0m\u001b[1;32m     11\u001b[0m \u001b[0;34m\u001b[0m\u001b[0m\n\u001b[1;32m     12\u001b[0m \u001b[0mprint\u001b[0m\u001b[0;34m(\u001b[0m\u001b[0;34m'vx: '\u001b[0m\u001b[0;34m,\u001b[0m \u001b[0mvx\u001b[0m\u001b[0;34m.\u001b[0m\u001b[0mshape\u001b[0m\u001b[0;34m,\u001b[0m \u001b[0mt3\u001b[0m\u001b[0;34m.\u001b[0m\u001b[0mshape\u001b[0m\u001b[0;34m,\u001b[0m \u001b[0mt4\u001b[0m\u001b[0;34m.\u001b[0m\u001b[0mshape\u001b[0m\u001b[0;34m)\u001b[0m\u001b[0;34m\u001b[0m\u001b[0m\n",
      "\u001b[0;31mValueError\u001b[0m: operands could not be broadcast together with shapes (26,7) (7,26) "
     ]
    }
   ],
   "source": [
    "# fixing PKLm\n",
    "import numpy as np\n",
    "a1 = np.empty((26))\n",
    "a11 = np.empty([7])\n",
    "b1 = np.empty((7,26))\n",
    "c1 = np.empty((26,7))\n",
    "vx = a1 + (a11.dot(b1))\n",
    "\n",
    "t3 = vx + (b1)\n",
    "t4 = c1 + t3\n",
    "\n",
    "print('vx: ', vx.shape, t3.shape, t4.shape)"
   ]
  },
  {
   "cell_type": "code",
   "execution_count": 2,
   "metadata": {},
   "outputs": [
    {
     "name": "stdout",
     "output_type": "stream",
     "text": [
      "(7, 7)\n"
     ]
    }
   ],
   "source": [
    "import numpy as np\n",
    "x = np.empty((7,7))\n",
    "y = np.empty((7, 7))\n",
    "z = np.empty([7])\n",
    "zz = x.dot(y-z)\n",
    "print(zz.shape)\n",
    "\n",
    "# zz = np.zeros_like(x)\n",
    "# print(zz.shape)"
   ]
  },
  {
   "cell_type": "code",
   "execution_count": 23,
   "metadata": {},
   "outputs": [
    {
     "name": "stdout",
     "output_type": "stream",
     "text": [
      "('w vals: ', array([ -9.71197146e-310,  -8.15561661e-310,  -1.96489224e-313,\n",
      "         1.85570289e-313,   2.80834431e-310,   1.83343715e-309,\n",
      "         3.14891619e-309]))\n",
      "[[-0.2 -0.  -0.  -0.  -0. ]\n",
      " [-0.  -0.2 -0.  -0.  -0. ]\n",
      " [-0.  -0.  -0.2 -0.  -0. ]\n",
      " [-0.  -0.  -0.  -0.2 -0. ]\n",
      " [-0.  -0.  -0.  -0.  -0.2]]\n"
     ]
    }
   ],
   "source": [
    "import scipy as sp\n",
    "q = -5*np.eye(5)\n",
    "w,v = np.linalg.eigh(x)\n",
    "print('w vals: ', w)\n",
    "# print('w: ', np.linalg.eigh(x)[0])\n",
    "# print('v vectors: ', v)wsort = np.amin(np.sort(w))\n",
    "qchol = np.linalg.inv(q)\n",
    "print(qchol)"
   ]
  },
  {
   "cell_type": "code",
   "execution_count": 38,
   "metadata": {},
   "outputs": [
    {
     "name": "stdout",
     "output_type": "stream",
     "text": [
      "(40, 40)\n",
      "(7, 33)\n"
     ]
    }
   ],
   "source": [
    "import numpy as np\n",
    "\n",
    "dX, dU, dV = 26, 7,7\n",
    "\n",
    "idx_x = slice(dX)\n",
    "idx_u = slice(dX, dX+dU)\n",
    "idx_v = slice(dX+dU, dX+dU+dV)\n",
    "\n",
    "\n",
    "# sigma_u   = np.zeros((T, dX+dU+dV, dX+dU+dV))\n",
    "# mu_u      = np.zeros((T, dX+dU+dV))\n",
    "sigma_u = np.vstack([\n",
    "    np.hstack([\n",
    "        np.empty([26,26]), np.empty([26,7]), np.zeros([26,7])\n",
    "    ]),\n",
    "    np.hstack([\n",
    "        np.empty([7,26]), np.empty([7,7]) + np.empty([7,7]), np.zeros([7,7])\n",
    "                 ]),\n",
    "    np.hstack([\n",
    "    np.empty([7,26]), np.empty([7,7]) + np.empty([7,7]), np.zeros([7,7])\n",
    "             ])\n",
    "])\n",
    "print(sigma_u.shape)\n",
    "\n",
    "mu = np.empty([26])"
   ]
  },
  {
   "cell_type": "code",
   "execution_count": 25,
   "metadata": {
    "scrolled": true
   },
   "outputs": [
    {
     "name": "stdout",
     "output_type": "stream",
     "text": [
      "Q:\n",
      "[[ 0  1  2  3  4  5  6  7  8  9]\n",
      " [10 11 12 13 14 15 16 17 18 19]\n",
      " [20 21 22 23 24 25 26 27 28 29]\n",
      " [30 31 32 33 34 35 36 37 38 39]\n",
      " [40 41 42 43 44 45 46 47 48 49]\n",
      " [50 51 52 53 54 55 56 57 58 59]\n",
      " [60 61 62 63 64 65 66 67 68 69]\n",
      " [70 71 72 73 74 75 76 77 78 79]\n",
      " [80 81 82 83 84 85 86 87 88 89]\n",
      " [90 91 92 93 94 95 96 97 98 99]], \n",
      "\n",
      "Qxx:\n",
      "[[ 0  1  2  3]\n",
      " [10 11 12 13]\n",
      " [20 21 22 23]\n",
      " [30 31 32 33]], \n",
      "\n",
      "Qxu:\n",
      "[[ 4  5  6]\n",
      " [14 15 16]\n",
      " [24 25 26]\n",
      " [34 35 36]], \n",
      "\n",
      "Qxv:\n",
      "[[ 7  8  9]\n",
      " [17 18 19]\n",
      " [27 28 29]\n",
      " [37 38 39]], \n",
      "\n",
      "Quu:\n",
      "[[44 45 46]\n",
      " [54 55 56]\n",
      " [64 65 66]],  \n",
      "\n",
      "Qvv:\n",
      "[[77 78 79]\n",
      " [87 88 89]\n",
      " [97 98 99]]\n"
     ]
    }
   ],
   "source": [
    "import numpy as np\n",
    "Q = np.arange(100).reshape(10,10)\n",
    "\n",
    "dX, dU, dV = 4, 3, 3\n",
    "idx_x = slice(dX)\n",
    "idx_u = slice(dX, dX+dU)\n",
    "idx_v = slice(dX+dU, dX+dU+dV)\n",
    "\n",
    "Qxx = Q[idx_x, idx_x]\n",
    "Qxu = Q[idx_x, idx_u]\n",
    "Qxv = Q[idx_x, idx_v]\n",
    "Quu = Q[idx_u, idx_u]\n",
    "Qvv = Q[idx_v, idx_v]\n",
    "\n",
    "print('Q:\\n{}, \\n\\nQxx:\\n{}, \\n\\nQxu:\\n{}, \\n\\nQxv:\\n{}, \\n\\nQuu:\\n{},  \\n\\nQvv:\\n{}'.format(Q,\\\n",
    "                        Qxx, Qxu, Qxv, Quu, Qvv))\n",
    "# print('Qxu: ', Qxu)"
   ]
  },
  {
   "cell_type": "code",
   "execution_count": 44,
   "metadata": {},
   "outputs": [
    {
     "name": "stdout",
     "output_type": "stream",
     "text": [
      "(26, 33)\n",
      "(33,)\n"
     ]
    },
    {
     "ename": "TypeError",
     "evalue": "'RClass' object is not callable",
     "output_type": "error",
     "traceback": [
      "\u001b[0;31m---------------------------------------------------------------------------\u001b[0m",
      "\u001b[0;31mTypeError\u001b[0m                                 Traceback (most recent call last)",
      "\u001b[0;32m<ipython-input-44-425e388a7810>\u001b[0m in \u001b[0;36m<module>\u001b[0;34m()\u001b[0m\n\u001b[1;32m     21\u001b[0m \u001b[0mprint\u001b[0m\u001b[0;34m(\u001b[0m\u001b[0mLtt\u001b[0m\u001b[0;34m.\u001b[0m\u001b[0mshape\u001b[0m\u001b[0;34m)\u001b[0m\u001b[0;34m\u001b[0m\u001b[0m\n\u001b[1;32m     22\u001b[0m lt = Ltt.dot(np.r_([    \n\u001b[0;32m---> 23\u001b[0;31m         \u001b[0mnp\u001b[0m\u001b[0;34m.\u001b[0m\u001b[0mconcatenate\u001b[0m\u001b[0;34m(\u001b[0m\u001b[0;34m[\u001b[0m\u001b[0mnp\u001b[0m\u001b[0;34m.\u001b[0m\u001b[0mzeros\u001b[0m\u001b[0;34m(\u001b[0m\u001b[0;36m7\u001b[0m\u001b[0;34m)\u001b[0m\u001b[0;34m,\u001b[0m \u001b[0mnp\u001b[0m\u001b[0;34m.\u001b[0m\u001b[0mzeros\u001b[0m\u001b[0;34m(\u001b[0m\u001b[0;36m7\u001b[0m\u001b[0;34m)\u001b[0m\u001b[0;34m]\u001b[0m\u001b[0;34m)\u001b[0m\u001b[0;34m\u001b[0m\u001b[0m\n\u001b[0m\u001b[1;32m     24\u001b[0m ]) )\n\u001b[1;32m     25\u001b[0m \u001b[0mprint\u001b[0m\u001b[0;34m(\u001b[0m\u001b[0mlt\u001b[0m\u001b[0;34m.\u001b[0m\u001b[0mshape\u001b[0m\u001b[0;34m)\u001b[0m\u001b[0;34m\u001b[0m\u001b[0m\n",
      "\u001b[0;31mTypeError\u001b[0m: 'RClass' object is not callable"
     ]
    }
   ],
   "source": [
    "dX, dU, dV = 26, 7, 7\n",
    "dt = .01\n",
    "gains = 1.0/np.array([3.09, 1.08, 0.393, 0.674, 0.111, 0.152, 0.098])\n",
    "Fd = np.vstack([\n",
    "    np.hstack([\n",
    "        np.eye(dU), dt * np.eye(dU), np.zeros((dU, dX - dU*2)),\n",
    "        dt ** 2 * np.diag(gains)\n",
    "    ]),\n",
    "    np.hstack([\n",
    "        np.zeros((dU, dU)), np.eye(dU), np.zeros((dU, dX - dU*2)),\n",
    "        dt * np.diag(gains)\n",
    "    ]),\n",
    "    np.zeros((dX - dU*2, dX+dU))\n",
    "])\n",
    "print(Fd.shape)\n",
    "# print(Fd)\n",
    "Ltt = np.hstack([\n",
    "         np.ones(dU),\n",
    "         np.ones(dU),\n",
    "         np.zeros(dX - dU*2), np.ones(dU)])\n",
    "print(Ltt.shape)\n",
    "lt = Ltt.dot(np.r_([    \n",
    "        np.concatenate([np.zeros(7), np.zeros(7)])\n",
    "]) )\n",
    "print(lt.shape)"
   ]
  },
  {
   "cell_type": "code",
   "execution_count": 49,
   "metadata": {},
   "outputs": [
    {
     "ename": "ValueError",
     "evalue": "shapes (33,) and (21,) not aligned: 33 (dim 0) != 21 (dim 0)",
     "output_type": "error",
     "traceback": [
      "\u001b[0;31m---------------------------------------------------------------------------\u001b[0m",
      "\u001b[0;31mValueError\u001b[0m                                Traceback (most recent call last)",
      "\u001b[0;32m<ipython-input-49-08ad40b774bf>\u001b[0m in \u001b[0;36m<module>\u001b[0;34m()\u001b[0m\n\u001b[1;32m      1\u001b[0m \u001b[0ma\u001b[0m \u001b[0;34m=\u001b[0m \u001b[0mnp\u001b[0m\u001b[0;34m.\u001b[0m\u001b[0mconcatenate\u001b[0m\u001b[0;34m(\u001b[0m\u001b[0;34m[\u001b[0m\u001b[0mnp\u001b[0m\u001b[0;34m.\u001b[0m\u001b[0mzeros\u001b[0m\u001b[0;34m(\u001b[0m\u001b[0;36m7\u001b[0m\u001b[0;34m)\u001b[0m\u001b[0;34m,\u001b[0m \u001b[0mnp\u001b[0m\u001b[0;34m.\u001b[0m\u001b[0mzeros\u001b[0m\u001b[0;34m(\u001b[0m\u001b[0;36m7\u001b[0m\u001b[0;34m)\u001b[0m\u001b[0;34m]\u001b[0m\u001b[0;34m)\u001b[0m\u001b[0;34m\u001b[0m\u001b[0m\n\u001b[1;32m      2\u001b[0m \u001b[0mb\u001b[0m \u001b[0;34m=\u001b[0m \u001b[0mnp\u001b[0m\u001b[0;34m.\u001b[0m\u001b[0mr_\u001b[0m\u001b[0;34m[\u001b[0m\u001b[0ma\u001b[0m\u001b[0;34m,\u001b[0m \u001b[0mnp\u001b[0m\u001b[0;34m.\u001b[0m\u001b[0mzeros\u001b[0m\u001b[0;34m(\u001b[0m\u001b[0;36m7\u001b[0m\u001b[0;34m)\u001b[0m\u001b[0;34m]\u001b[0m\u001b[0;34m\u001b[0m\u001b[0m\n\u001b[0;32m----> 3\u001b[0;31m \u001b[0mprint\u001b[0m\u001b[0;34m(\u001b[0m\u001b[0mLtt\u001b[0m\u001b[0;34m.\u001b[0m\u001b[0mdot\u001b[0m\u001b[0;34m(\u001b[0m\u001b[0mb\u001b[0m\u001b[0;34m)\u001b[0m\u001b[0;34m.\u001b[0m\u001b[0mshape\u001b[0m\u001b[0;34m)\u001b[0m\u001b[0;34m\u001b[0m\u001b[0m\n\u001b[0m",
      "\u001b[0;31mValueError\u001b[0m: shapes (33,) and (21,) not aligned: 33 (dim 0) != 21 (dim 0)"
     ]
    }
   ],
   "source": [
    "a = np.concatenate([np.zeros(7), np.zeros(7)])\n",
    "b = np.r_[a, np.zeros(7)]\n",
    "print(Ltt.dot(b).shape)"
   ]
  },
  {
   "cell_type": "code",
   "execution_count": 54,
   "metadata": {},
   "outputs": [
    {
     "name": "stdout",
     "output_type": "stream",
     "text": [
      "nan\n"
     ]
    }
   ],
   "source": [
    "a = np.empty([66]).dot(np.empty([66]))\n",
    "print(a)"
   ]
  },
  {
   "cell_type": "code",
   "execution_count": null,
   "metadata": {
    "collapsed": true
   },
   "outputs": [],
   "source": []
  }
 ],
 "metadata": {
  "kernelspec": {
   "display_name": "Python 2",
   "language": "python",
   "name": "python2"
  },
  "language_info": {
   "codemirror_mode": {
    "name": "ipython",
    "version": 2
   },
   "file_extension": ".py",
   "mimetype": "text/x-python",
   "name": "python",
   "nbconvert_exporter": "python",
   "pygments_lexer": "ipython2",
   "version": "2.7.13"
  }
 },
 "nbformat": 4,
 "nbformat_minor": 2
}
