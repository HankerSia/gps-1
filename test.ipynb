{
 "cells": [
  {
   "cell_type": "code",
   "execution_count": 9,
   "metadata": {},
   "outputs": [
    {
     "name": "stdout",
     "output_type": "stream",
     "text": [
      "(26,)\n"
     ]
    },
    {
     "data": {
      "text/plain": [
       "(33,)"
      ]
     },
     "execution_count": 9,
     "metadata": {},
     "output_type": "execute_result"
    }
   ],
   "source": [
    "# fixing PKLm\n",
    "import numpy as np\n",
    "M = np.r_[\n",
    "    np.c_[np.empty((26,26)), np.empty((26,7))], \n",
    "    np.c_[np.empty((7, 26)), np.empty((7, 7))], \n",
    "]\n",
    "M.shape\n",
    "print(np.zeros((26,7)).dot(np.zeros((7))).shape)\n",
    "v = np.r_[np.zeros((26)), np.zeros((7))]\n",
    "v.shape"
   ]
  },
  {
   "cell_type": "code",
   "execution_count": 3,
   "metadata": {},
   "outputs": [
    {
     "name": "stdout",
     "output_type": "stream",
     "text": [
      "Help on function zeros_like in module numpy.core.numeric:\n",
      "\n",
      "zeros_like(a, dtype=None, order='K', subok=True)\n",
      "    Return an array of zeros with the same shape and type as a given array.\n",
      "    \n",
      "    Parameters\n",
      "    ----------\n",
      "    a : array_like\n",
      "        The shape and data-type of `a` define these same attributes of\n",
      "        the returned array.\n",
      "    dtype : data-type, optional\n",
      "        Overrides the data type of the result.\n",
      "    \n",
      "        .. versionadded:: 1.6.0\n",
      "    order : {'C', 'F', 'A', or 'K'}, optional\n",
      "        Overrides the memory layout of the result. 'C' means C-order,\n",
      "        'F' means F-order, 'A' means 'F' if `a` is Fortran contiguous,\n",
      "        'C' otherwise. 'K' means match the layout of `a` as closely\n",
      "        as possible.\n",
      "    \n",
      "        .. versionadded:: 1.6.0\n",
      "    subok : bool, optional.\n",
      "        If True, then the newly created array will use the sub-class\n",
      "        type of 'a', otherwise it will be a base-class array. Defaults\n",
      "        to True.\n",
      "    \n",
      "    Returns\n",
      "    -------\n",
      "    out : ndarray\n",
      "        Array of zeros with the same shape and type as `a`.\n",
      "    \n",
      "    See Also\n",
      "    --------\n",
      "    ones_like : Return an array of ones with shape and type of input.\n",
      "    empty_like : Return an empty array with shape and type of input.\n",
      "    zeros : Return a new array setting values to zero.\n",
      "    ones : Return a new array setting values to one.\n",
      "    empty : Return a new uninitialized array.\n",
      "    \n",
      "    Examples\n",
      "    --------\n",
      "    >>> x = np.arange(6)\n",
      "    >>> x = x.reshape((2, 3))\n",
      "    >>> x\n",
      "    array([[0, 1, 2],\n",
      "           [3, 4, 5]])\n",
      "    >>> np.zeros_like(x)\n",
      "    array([[0, 0, 0],\n",
      "           [0, 0, 0]])\n",
      "    \n",
      "    >>> y = np.arange(3, dtype=np.float)\n",
      "    >>> y\n",
      "    array([ 0.,  1.,  2.])\n",
      "    >>> np.zeros_like(y)\n",
      "    array([ 0.,  0.,  0.])\n",
      "\n"
     ]
    }
   ],
   "source": [
    "help(np.zeros_like)"
   ]
  },
  {
   "cell_type": "code",
   "execution_count": 23,
   "metadata": {},
   "outputs": [
    {
     "name": "stdout",
     "output_type": "stream",
     "text": [
      "('w vals: ', array([ -9.71197146e-310,  -8.15561661e-310,  -1.96489224e-313,\n",
      "         1.85570289e-313,   2.80834431e-310,   1.83343715e-309,\n",
      "         3.14891619e-309]))\n",
      "[[-0.2 -0.  -0.  -0.  -0. ]\n",
      " [-0.  -0.2 -0.  -0.  -0. ]\n",
      " [-0.  -0.  -0.2 -0.  -0. ]\n",
      " [-0.  -0.  -0.  -0.2 -0. ]\n",
      " [-0.  -0.  -0.  -0.  -0.2]]\n"
     ]
    }
   ],
   "source": [
    "import scipy as sp\n",
    "q = -5*np.eye(5)\n",
    "w,v = np.linalg.eigh(x)\n",
    "print('w vals: ', w)\n",
    "# print('w: ', np.linalg.eigh(x)[0])\n",
    "# print('v vectors: ', v)wsort = np.amin(np.sort(w))\n",
    "qchol = np.linalg.inv(q)\n",
    "print(qchol)"
   ]
  },
  {
   "cell_type": "code",
   "execution_count": 38,
   "metadata": {},
   "outputs": [
    {
     "name": "stdout",
     "output_type": "stream",
     "text": [
      "(40, 40)\n",
      "(7, 33)\n"
     ]
    }
   ],
   "source": [
    "import numpy as np\n",
    "\n",
    "dX, dU, dV = 26, 7,7\n",
    "\n",
    "idx_x = slice(dX)\n",
    "idx_u = slice(dX, dX+dU)\n",
    "idx_v = slice(dX+dU, dX+dU+dV)\n",
    "\n",
    "\n",
    "# sigma_u   = np.zeros((T, dX+dU+dV, dX+dU+dV))\n",
    "# mu_u      = np.zeros((T, dX+dU+dV))\n",
    "sigma_u = np.vstack([\n",
    "    np.hstack([\n",
    "        np.empty([26,26]), np.empty([26,7]), np.zeros([26,7])\n",
    "    ]),\n",
    "    np.hstack([\n",
    "        np.empty([7,26]), np.empty([7,7]) + np.empty([7,7]), np.zeros([7,7])\n",
    "                 ]),\n",
    "    np.hstack([\n",
    "    np.empty([7,26]), np.empty([7,7]) + np.empty([7,7]), np.zeros([7,7])\n",
    "             ])\n",
    "])\n",
    "print(sigma_u.shape)\n",
    "\n",
    "mu = np.empty([26])"
   ]
  },
  {
   "cell_type": "code",
   "execution_count": 25,
   "metadata": {
    "scrolled": true
   },
   "outputs": [
    {
     "name": "stdout",
     "output_type": "stream",
     "text": [
      "Q:\n",
      "[[ 0  1  2  3  4  5  6  7  8  9]\n",
      " [10 11 12 13 14 15 16 17 18 19]\n",
      " [20 21 22 23 24 25 26 27 28 29]\n",
      " [30 31 32 33 34 35 36 37 38 39]\n",
      " [40 41 42 43 44 45 46 47 48 49]\n",
      " [50 51 52 53 54 55 56 57 58 59]\n",
      " [60 61 62 63 64 65 66 67 68 69]\n",
      " [70 71 72 73 74 75 76 77 78 79]\n",
      " [80 81 82 83 84 85 86 87 88 89]\n",
      " [90 91 92 93 94 95 96 97 98 99]], \n",
      "\n",
      "Qxx:\n",
      "[[ 0  1  2  3]\n",
      " [10 11 12 13]\n",
      " [20 21 22 23]\n",
      " [30 31 32 33]], \n",
      "\n",
      "Qxu:\n",
      "[[ 4  5  6]\n",
      " [14 15 16]\n",
      " [24 25 26]\n",
      " [34 35 36]], \n",
      "\n",
      "Qxv:\n",
      "[[ 7  8  9]\n",
      " [17 18 19]\n",
      " [27 28 29]\n",
      " [37 38 39]], \n",
      "\n",
      "Quu:\n",
      "[[44 45 46]\n",
      " [54 55 56]\n",
      " [64 65 66]],  \n",
      "\n",
      "Qvv:\n",
      "[[77 78 79]\n",
      " [87 88 89]\n",
      " [97 98 99]]\n"
     ]
    }
   ],
   "source": [
    "import numpy as np\n",
    "Q = np.arange(100).reshape(10,10)\n",
    "\n",
    "dX, dU, dV = 4, 3, 3\n",
    "idx_x = slice(dX)\n",
    "idx_u = slice(dX, dX+dU)\n",
    "idx_v = slice(dX+dU, dX+dU+dV)\n",
    "\n",
    "Qxx = Q[idx_x, idx_x]\n",
    "Qxu = Q[idx_x, idx_u]\n",
    "Qxv = Q[idx_x, idx_v]\n",
    "Quu = Q[idx_u, idx_u]\n",
    "Qvv = Q[idx_v, idx_v]\n",
    "\n",
    "print('Q:\\n{}, \\n\\nQxx:\\n{}, \\n\\nQxu:\\n{}, \\n\\nQxv:\\n{}, \\n\\nQuu:\\n{},  \\n\\nQvv:\\n{}'.format(Q,\\\n",
    "                        Qxx, Qxu, Qxv, Quu, Qvv))\n",
    "# print('Qxu: ', Qxu)"
   ]
  },
  {
   "cell_type": "code",
   "execution_count": 44,
   "metadata": {},
   "outputs": [
    {
     "name": "stdout",
     "output_type": "stream",
     "text": [
      "(26, 33)\n",
      "(33,)\n"
     ]
    },
    {
     "ename": "TypeError",
     "evalue": "'RClass' object is not callable",
     "output_type": "error",
     "traceback": [
      "\u001b[0;31m---------------------------------------------------------------------------\u001b[0m",
      "\u001b[0;31mTypeError\u001b[0m                                 Traceback (most recent call last)",
      "\u001b[0;32m<ipython-input-44-425e388a7810>\u001b[0m in \u001b[0;36m<module>\u001b[0;34m()\u001b[0m\n\u001b[1;32m     21\u001b[0m \u001b[0mprint\u001b[0m\u001b[0;34m(\u001b[0m\u001b[0mLtt\u001b[0m\u001b[0;34m.\u001b[0m\u001b[0mshape\u001b[0m\u001b[0;34m)\u001b[0m\u001b[0;34m\u001b[0m\u001b[0m\n\u001b[1;32m     22\u001b[0m lt = Ltt.dot(np.r_([    \n\u001b[0;32m---> 23\u001b[0;31m         \u001b[0mnp\u001b[0m\u001b[0;34m.\u001b[0m\u001b[0mconcatenate\u001b[0m\u001b[0;34m(\u001b[0m\u001b[0;34m[\u001b[0m\u001b[0mnp\u001b[0m\u001b[0;34m.\u001b[0m\u001b[0mzeros\u001b[0m\u001b[0;34m(\u001b[0m\u001b[0;36m7\u001b[0m\u001b[0;34m)\u001b[0m\u001b[0;34m,\u001b[0m \u001b[0mnp\u001b[0m\u001b[0;34m.\u001b[0m\u001b[0mzeros\u001b[0m\u001b[0;34m(\u001b[0m\u001b[0;36m7\u001b[0m\u001b[0;34m)\u001b[0m\u001b[0;34m]\u001b[0m\u001b[0;34m)\u001b[0m\u001b[0;34m\u001b[0m\u001b[0m\n\u001b[0m\u001b[1;32m     24\u001b[0m ]) )\n\u001b[1;32m     25\u001b[0m \u001b[0mprint\u001b[0m\u001b[0;34m(\u001b[0m\u001b[0mlt\u001b[0m\u001b[0;34m.\u001b[0m\u001b[0mshape\u001b[0m\u001b[0;34m)\u001b[0m\u001b[0;34m\u001b[0m\u001b[0m\n",
      "\u001b[0;31mTypeError\u001b[0m: 'RClass' object is not callable"
     ]
    }
   ],
   "source": [
    "dX, dU, dV = 26, 7, 7\n",
    "dt = .01\n",
    "gains = 1.0/np.array([3.09, 1.08, 0.393, 0.674, 0.111, 0.152, 0.098])\n",
    "Fd = np.vstack([\n",
    "    np.hstack([\n",
    "        np.eye(dU), dt * np.eye(dU), np.zeros((dU, dX - dU*2)),\n",
    "        dt ** 2 * np.diag(gains)\n",
    "    ]),\n",
    "    np.hstack([\n",
    "        np.zeros((dU, dU)), np.eye(dU), np.zeros((dU, dX - dU*2)),\n",
    "        dt * np.diag(gains)\n",
    "    ]),\n",
    "    np.zeros((dX - dU*2, dX+dU))\n",
    "])\n",
    "print(Fd.shape)\n",
    "# print(Fd)\n",
    "Ltt = np.hstack([\n",
    "         np.ones(dU),\n",
    "         np.ones(dU),\n",
    "         np.zeros(dX - dU*2), np.ones(dU)])\n",
    "print(Ltt.shape)\n",
    "lt = Ltt.dot(np.r_([    \n",
    "        np.concatenate([np.zeros(7), np.zeros(7)])\n",
    "]) )\n",
    "print(lt.shape)"
   ]
  },
  {
   "cell_type": "code",
   "execution_count": 49,
   "metadata": {},
   "outputs": [
    {
     "ename": "ValueError",
     "evalue": "shapes (33,) and (21,) not aligned: 33 (dim 0) != 21 (dim 0)",
     "output_type": "error",
     "traceback": [
      "\u001b[0;31m---------------------------------------------------------------------------\u001b[0m",
      "\u001b[0;31mValueError\u001b[0m                                Traceback (most recent call last)",
      "\u001b[0;32m<ipython-input-49-08ad40b774bf>\u001b[0m in \u001b[0;36m<module>\u001b[0;34m()\u001b[0m\n\u001b[1;32m      1\u001b[0m \u001b[0ma\u001b[0m \u001b[0;34m=\u001b[0m \u001b[0mnp\u001b[0m\u001b[0;34m.\u001b[0m\u001b[0mconcatenate\u001b[0m\u001b[0;34m(\u001b[0m\u001b[0;34m[\u001b[0m\u001b[0mnp\u001b[0m\u001b[0;34m.\u001b[0m\u001b[0mzeros\u001b[0m\u001b[0;34m(\u001b[0m\u001b[0;36m7\u001b[0m\u001b[0;34m)\u001b[0m\u001b[0;34m,\u001b[0m \u001b[0mnp\u001b[0m\u001b[0;34m.\u001b[0m\u001b[0mzeros\u001b[0m\u001b[0;34m(\u001b[0m\u001b[0;36m7\u001b[0m\u001b[0;34m)\u001b[0m\u001b[0;34m]\u001b[0m\u001b[0;34m)\u001b[0m\u001b[0;34m\u001b[0m\u001b[0m\n\u001b[1;32m      2\u001b[0m \u001b[0mb\u001b[0m \u001b[0;34m=\u001b[0m \u001b[0mnp\u001b[0m\u001b[0;34m.\u001b[0m\u001b[0mr_\u001b[0m\u001b[0;34m[\u001b[0m\u001b[0ma\u001b[0m\u001b[0;34m,\u001b[0m \u001b[0mnp\u001b[0m\u001b[0;34m.\u001b[0m\u001b[0mzeros\u001b[0m\u001b[0;34m(\u001b[0m\u001b[0;36m7\u001b[0m\u001b[0;34m)\u001b[0m\u001b[0;34m]\u001b[0m\u001b[0;34m\u001b[0m\u001b[0m\n\u001b[0;32m----> 3\u001b[0;31m \u001b[0mprint\u001b[0m\u001b[0;34m(\u001b[0m\u001b[0mLtt\u001b[0m\u001b[0;34m.\u001b[0m\u001b[0mdot\u001b[0m\u001b[0;34m(\u001b[0m\u001b[0mb\u001b[0m\u001b[0;34m)\u001b[0m\u001b[0;34m.\u001b[0m\u001b[0mshape\u001b[0m\u001b[0;34m)\u001b[0m\u001b[0;34m\u001b[0m\u001b[0m\n\u001b[0m",
      "\u001b[0;31mValueError\u001b[0m: shapes (33,) and (21,) not aligned: 33 (dim 0) != 21 (dim 0)"
     ]
    }
   ],
   "source": [
    "a = np.concatenate([np.zeros(7), np.zeros(7)])\n",
    "b = np.r_[a, np.zeros(7)]\n",
    "print(Ltt.dot(b).shape)"
   ]
  },
  {
   "cell_type": "code",
   "execution_count": 54,
   "metadata": {},
   "outputs": [
    {
     "name": "stdout",
     "output_type": "stream",
     "text": [
      "nan\n"
     ]
    }
   ],
   "source": [
    "a = np.empty([66]).dot(np.empty([66]))\n",
    "print(a)"
   ]
  },
  {
   "cell_type": "code",
   "execution_count": 75,
   "metadata": {},
   "outputs": [
    {
     "name": "stdout",
     "output_type": "stream",
     "text": [
      "(33, 33)\n",
      "(40, 40)\n"
     ]
    },
    {
     "ename": "ValueError",
     "evalue": "all the input array dimensions except for the concatenation axis must match exactly",
     "output_type": "error",
     "traceback": [
      "\u001b[0;31m---------------------------------------------------------------------------\u001b[0m",
      "\u001b[0;31mValueError\u001b[0m                                Traceback (most recent call last)",
      "\u001b[0;32m<ipython-input-75-17bdc941de1f>\u001b[0m in \u001b[0;36m<module>\u001b[0;34m()\u001b[0m\n\u001b[1;32m     28\u001b[0m \u001b[0mprint\u001b[0m\u001b[0;34m(\u001b[0m\u001b[0mCm_robust\u001b[0m\u001b[0;34m.\u001b[0m\u001b[0mshape\u001b[0m\u001b[0;34m)\u001b[0m\u001b[0;34m\u001b[0m\u001b[0m\n\u001b[1;32m     29\u001b[0m \u001b[0;34m\u001b[0m\u001b[0m\n\u001b[0;32m---> 30\u001b[0;31m \u001b[0mcv\u001b[0m \u001b[0;34m=\u001b[0m \u001b[0mnp\u001b[0m\u001b[0;34m.\u001b[0m\u001b[0mc_\u001b[0m\u001b[0;34m[\u001b[0m\u001b[0mlx\u001b[0m\u001b[0;34m,\u001b[0m \u001b[0mlu\u001b[0m\u001b[0;34m]\u001b[0m\u001b[0;34m\u001b[0m\u001b[0m\n\u001b[0m\u001b[1;32m     31\u001b[0m \u001b[0;34m\u001b[0m\u001b[0m\n\u001b[1;32m     32\u001b[0m \u001b[0mprint\u001b[0m\u001b[0;34m(\u001b[0m\u001b[0;34m'cv: '\u001b[0m\u001b[0;34m,\u001b[0m \u001b[0mcv\u001b[0m\u001b[0;34m.\u001b[0m\u001b[0mshape\u001b[0m\u001b[0;34m)\u001b[0m\u001b[0;34m\u001b[0m\u001b[0m\n",
      "\u001b[0;32m/home/lex/anaconda3/lib/python3.6/site-packages/numpy/lib/index_tricks.py\u001b[0m in \u001b[0;36m__getitem__\u001b[0;34m(self, key)\u001b[0m\n\u001b[1;32m    336\u001b[0m                 \u001b[0mobjs\u001b[0m\u001b[0;34m[\u001b[0m\u001b[0mk\u001b[0m\u001b[0;34m]\u001b[0m \u001b[0;34m=\u001b[0m \u001b[0mobjs\u001b[0m\u001b[0;34m[\u001b[0m\u001b[0mk\u001b[0m\u001b[0;34m]\u001b[0m\u001b[0;34m.\u001b[0m\u001b[0mastype\u001b[0m\u001b[0;34m(\u001b[0m\u001b[0mfinal_dtype\u001b[0m\u001b[0;34m)\u001b[0m\u001b[0;34m\u001b[0m\u001b[0m\n\u001b[1;32m    337\u001b[0m \u001b[0;34m\u001b[0m\u001b[0m\n\u001b[0;32m--> 338\u001b[0;31m         \u001b[0mres\u001b[0m \u001b[0;34m=\u001b[0m \u001b[0m_nx\u001b[0m\u001b[0;34m.\u001b[0m\u001b[0mconcatenate\u001b[0m\u001b[0;34m(\u001b[0m\u001b[0mtuple\u001b[0m\u001b[0;34m(\u001b[0m\u001b[0mobjs\u001b[0m\u001b[0;34m)\u001b[0m\u001b[0;34m,\u001b[0m \u001b[0maxis\u001b[0m\u001b[0;34m=\u001b[0m\u001b[0mself\u001b[0m\u001b[0;34m.\u001b[0m\u001b[0maxis\u001b[0m\u001b[0;34m)\u001b[0m\u001b[0;34m\u001b[0m\u001b[0m\n\u001b[0m\u001b[1;32m    339\u001b[0m         \u001b[0;32mreturn\u001b[0m \u001b[0mself\u001b[0m\u001b[0;34m.\u001b[0m\u001b[0m_retval\u001b[0m\u001b[0;34m(\u001b[0m\u001b[0mres\u001b[0m\u001b[0;34m)\u001b[0m\u001b[0;34m\u001b[0m\u001b[0m\n\u001b[1;32m    340\u001b[0m \u001b[0;34m\u001b[0m\u001b[0m\n",
      "\u001b[0;31mValueError\u001b[0m: all the input array dimensions except for the concatenation axis must match exactly"
     ]
    }
   ],
   "source": [
    "import numpy as np\n",
    "\n",
    "dX, dU, dV = 26, 7, 7\n",
    "lx = np.empty((dX))\n",
    "lu = np.empty((dU))\n",
    "lv = np.empty_like(lu)\n",
    "\n",
    "lxx = np.empty((dX, dX))\n",
    "lux = np.empty((dU, dX))\n",
    "lvx = np.empty((dV, dX))\n",
    "luv = np.empty((dU, dV))\n",
    "luu = np.empty((dU, dU))\n",
    "lvv = np.empty_like(luu)\n",
    "\n",
    "Cm = np.concatenate(\n",
    "        (np.c_[lxx, np.transpose(lux, [1, 0])], np.c_[lux, luu]),\n",
    "        axis=0\n",
    ")\n",
    "\n",
    "print(Cm.shape)\n",
    "Cm_robust = np.concatenate(\n",
    "        (np.c_[lxx, np.transpose(lux, [1, 0]), \n",
    "               np.transpose(lvx, [1,0])],\n",
    "         np.c_[lux, luu, luv],\n",
    "         np.c_[lvx, np.transpose(luv, [1,0]), lvv]),\n",
    "        axis=0\n",
    ")\n",
    "print(Cm_robust.shape)\n",
    "\n",
    "cv = np.c_[lx, lu]\n",
    "\n",
    "print('cv: ', cv.shape)"
   ]
  },
  {
   "cell_type": "code",
   "execution_count": 64,
   "metadata": {},
   "outputs": [
    {
     "name": "stdout",
     "output_type": "stream",
     "text": [
      "(26, 33) (7, 33)\n"
     ]
    }
   ],
   "source": [
    "a = np.c_[lxx, np.transpose(lux, [1, 0])]\n",
    "b = np.c_[lux, luu]\n",
    "print(a.shape, b.shape)"
   ]
  },
  {
   "cell_type": "code",
   "execution_count": 67,
   "metadata": {},
   "outputs": [
    {
     "name": "stderr",
     "output_type": "stream",
     "text": [
      "IOPub data rate exceeded.\n",
      "The notebook server will temporarily stop sending output\n",
      "to the client in order to avoid crashing it.\n",
      "To change this limit, set the config variable\n",
      "`--NotebookApp.iopub_data_rate_limit`.\n",
      "\n",
      "Current values:\n",
      "NotebookApp.iopub_data_rate_limit=1000000.0 (bytes/sec)\n",
      "NotebookApp.rate_limit_window=3.0 (secs)\n",
      "\n"
     ]
    }
   ],
   "source": [
    "import matplotlib.pyplot as plt\n",
    "import csv\n",
    "dists_filename = 'dists_filename'\n",
    "\n",
    "\n",
    "dist = {\n",
    "    'cond0': list(),\n",
    "    'cond1': list(),\n",
    "    'cond2': list(),\n",
    "    'cond3': list(),\n",
    "    'cond4': list(),\n",
    "    'cond5': list(),\n",
    "}\n",
    "dist_ave_list = []\n",
    "\n",
    "index = 0\n",
    "stop_index = 0\n",
    "\n",
    "with open(dists_filename, 'rb') as foo:\n",
    "    reader = csv.reader(foo, delimiter='\\n')\n",
    "    for row in reader:     \n",
    "#         print 'row : ', index, '\\n'.join(row)\n",
    "        dist_ave_list.append('\\n'.join(row))\n",
    "#         for i in range(len(row)):\n",
    "#             index += 1\n",
    "#         stop_index += 1\n",
    "                    \n",
    "#         if stop_index > 205:\n",
    "#             break\n",
    "\n",
    "print '\\n'\n",
    "# for k, v in dist.iteritems():\n",
    "#     print k, v\n",
    "print(dist_ave_list)"
   ]
  },
  {
   "cell_type": "code",
   "execution_count": 74,
   "metadata": {},
   "outputs": [
    {
     "name": "stderr",
     "output_type": "stream",
     "text": [
      "IOPub data rate exceeded.\n",
      "The notebook server will temporarily stop sending output\n",
      "to the client in order to avoid crashing it.\n",
      "To change this limit, set the config variable\n",
      "`--NotebookApp.iopub_data_rate_limit`.\n",
      "\n",
      "Current values:\n",
      "NotebookApp.iopub_data_rate_limit=1000000.0 (bytes/sec)\n",
      "NotebookApp.rate_limit_window=3.0 (secs)\n",
      "\n"
     ]
    }
   ],
   "source": [
    "print len(dist_ave_list)\n",
    "# dist_ave_list\n",
    "\n",
    "# import line\n",
    "\n",
    "with open(dists_filename, 'r') as f:\n",
    "    my_list = [line.rstrip('\\n') for line in f]\n",
    "    print(my_list)"
   ]
  },
  {
   "cell_type": "code",
   "execution_count": 111,
   "metadata": {},
   "outputs": [],
   "source": [
    "import numpy as np\n",
    "array_num = len(my_list)/100\n",
    "# # print(array_num, array_num*100\n",
    "\n",
    "import numpy\n",
    "a = numpy.asarray([ [1,2,3], [4,5,6], [7,8,9] ])\n",
    "\n",
    "with open('foo.csv','a') as f_handle:\n",
    "    for i in range(3):\n",
    "        numpy.savetxt(f_handle, a, delimiter=\"\\n\",fmt='%1.4e')\n",
    "        "
   ]
  },
  {
   "cell_type": "code",
   "execution_count": 91,
   "metadata": {},
   "outputs": [
    {
     "ename": "AttributeError",
     "evalue": "'set' object has no attribute 'items'",
     "output_type": "error",
     "traceback": [
      "\u001b[0;31m---------------------------------------------------------------------\u001b[0m",
      "\u001b[0;31mAttributeError\u001b[0m                      Traceback (most recent call last)",
      "\u001b[0;32m<ipython-input-91-fb9d99eced82>\u001b[0m in \u001b[0;36m<module>\u001b[0;34m()\u001b[0m\n\u001b[1;32m      1\u001b[0m \u001b[0;32mfrom\u001b[0m \u001b[0mio\u001b[0m \u001b[0;32mimport\u001b[0m \u001b[0mStringIO\u001b[0m\u001b[0;34m\u001b[0m\u001b[0m\n\u001b[0;32m----> 2\u001b[0;31m \u001b[0mnp\u001b[0m\u001b[0;34m.\u001b[0m\u001b[0mloadtxt\u001b[0m\u001b[0;34m(\u001b[0m\u001b[0mdists_filename\u001b[0m\u001b[0;34m,\u001b[0m \u001b[0mdelimiter\u001b[0m\u001b[0;34m=\u001b[0m\u001b[0;34m'\\n'\u001b[0m\u001b[0;34m,\u001b[0m \u001b[0mconverters\u001b[0m\u001b[0;34m=\u001b[0m\u001b[0;34m{\u001b[0m\u001b[0;32mlambda\u001b[0m \u001b[0ms\u001b[0m\u001b[0;34m:\u001b[0m \u001b[0mfloat\u001b[0m\u001b[0;34m(\u001b[0m\u001b[0ms\u001b[0m\u001b[0;34m.\u001b[0m\u001b[0mstrip\u001b[0m\u001b[0;34m(\u001b[0m\u001b[0;34m)\u001b[0m\u001b[0;34m)\u001b[0m\u001b[0;34m}\u001b[0m\u001b[0;34m,\u001b[0m \u001b[0mskiprows\u001b[0m\u001b[0;34m=\u001b[0m\u001b[0;36m0\u001b[0m\u001b[0;34m,\u001b[0m \u001b[0musecols\u001b[0m\u001b[0;34m=\u001b[0m\u001b[0mNone\u001b[0m\u001b[0;34m,\u001b[0m \u001b[0munpack\u001b[0m\u001b[0;34m=\u001b[0m\u001b[0mFalse\u001b[0m\u001b[0;34m,\u001b[0m \u001b[0mndmin\u001b[0m\u001b[0;34m=\u001b[0m\u001b[0;36m0\u001b[0m\u001b[0;34m)\u001b[0m\u001b[0;34m\u001b[0m\u001b[0m\n\u001b[0m",
      "\u001b[0;32m/usr/lib/python2.7/dist-packages/numpy/lib/npyio.pyc\u001b[0m in \u001b[0;36mloadtxt\u001b[0;34m(fname, dtype, comments, delimiter, converters, skiprows, usecols, unpack, ndmin)\u001b[0m\n\u001b[1;32m    906\u001b[0m \u001b[0;34m\u001b[0m\u001b[0m\n\u001b[1;32m    907\u001b[0m         \u001b[0;31m# By preference, use the converters specified by the user\u001b[0m\u001b[0;34m\u001b[0m\u001b[0;34m\u001b[0m\u001b[0m\n\u001b[0;32m--> 908\u001b[0;31m         \u001b[0;32mfor\u001b[0m \u001b[0mi\u001b[0m\u001b[0;34m,\u001b[0m \u001b[0mconv\u001b[0m \u001b[0;32min\u001b[0m \u001b[0;34m(\u001b[0m\u001b[0muser_converters\u001b[0m \u001b[0;32mor\u001b[0m \u001b[0;34m{\u001b[0m\u001b[0;34m}\u001b[0m\u001b[0;34m)\u001b[0m\u001b[0;34m.\u001b[0m\u001b[0mitems\u001b[0m\u001b[0;34m(\u001b[0m\u001b[0;34m)\u001b[0m\u001b[0;34m:\u001b[0m\u001b[0;34m\u001b[0m\u001b[0m\n\u001b[0m\u001b[1;32m    909\u001b[0m             \u001b[0;32mif\u001b[0m \u001b[0musecols\u001b[0m\u001b[0;34m:\u001b[0m\u001b[0;34m\u001b[0m\u001b[0m\n\u001b[1;32m    910\u001b[0m                 \u001b[0;32mtry\u001b[0m\u001b[0;34m:\u001b[0m\u001b[0;34m\u001b[0m\u001b[0m\n",
      "\u001b[0;31mAttributeError\u001b[0m: 'set' object has no attribute 'items'"
     ]
    }
   ],
   "source": [
    "from io import StringIO  \n",
    "# np.loadtxt(dists_filename, delimiter='\\n', converters={lambda s: float(s.strip())}, skiprows=0, usecols=None, unpack=False, ndmin=0)"
   ]
  },
  {
   "cell_type": "code",
   "execution_count": null,
   "metadata": {},
   "outputs": [],
   "source": []
  }
 ],
 "metadata": {
  "kernelspec": {
   "display_name": "Python 2",
   "language": "python",
   "name": "python2"
  },
  "language_info": {
   "codemirror_mode": {
    "name": "ipython",
    "version": 2
   },
   "file_extension": ".py",
   "mimetype": "text/x-python",
   "name": "python",
   "nbconvert_exporter": "python",
   "pygments_lexer": "ipython2",
   "version": "2.7.12"
  }
 },
 "nbformat": 4,
 "nbformat_minor": 2
}
