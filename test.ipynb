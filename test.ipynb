{
 "cells": [
  {
   "cell_type": "code",
   "execution_count": 35,
   "metadata": {},
   "outputs": [
    {
     "name": "stdout",
     "output_type": "stream",
     "text": [
      "h1: (26, 40), h2: (7, 40), v1: (40, 40)\n",
      "('PKLv: ', (40, 26))\n"
     ]
    }
   ],
   "source": [
    "# fixing PKLm\n",
    "import numpy as np\n",
    "a1 = np.empty((26,26))\n",
    "b1 = np.empty((26,7))\n",
    "c1 = np.empty((26,7))\n",
    "h1 = np.hstack((a1, b1, c1))\n",
    "\n",
    "a = np.empty((7,26))\n",
    "b = np.zeros((7,7))\n",
    "c = np.zeros((7,7))\n",
    "h2 = np.hstack([a, b,c])\n",
    "\n",
    "a3 = np.empty((7, 40))\n",
    "v1 = np.vstack((h1, h2, a3))\n",
    "print('h1: {}, h2: {}, v1: {}'.format(h1.shape, h2.shape, v1.shape))\n",
    "\n",
    "# fixing PKLv\n",
    "PKLv = np.concatenate((np.empty((26,26)), np.empty((7,26)), np.empty((7,26)) ))\n",
    "print('PKLv: ', PKLv.shape)"
   ]
  },
  {
   "cell_type": "code",
   "execution_count": 2,
   "metadata": {},
   "outputs": [
    {
     "name": "stdout",
     "output_type": "stream",
     "text": [
      "(7,)\n",
      "(7, 7)\n"
     ]
    }
   ],
   "source": [
    "import numpy as np\n",
    "x = np.empty((7,7))\n",
    "y = np.empty((7))\n",
    "z = x.dot(y)\n",
    "print(z.shape)\n",
    "\n",
    "zz = x.dot(x - z)\n",
    "print(zz.shape)"
   ]
  },
  {
   "cell_type": "code",
   "execution_count": 23,
   "metadata": {},
   "outputs": [
    {
     "name": "stdout",
     "output_type": "stream",
     "text": [
      "('w vals: ', array([ -9.71197146e-310,  -8.15561661e-310,  -1.96489224e-313,\n",
      "         1.85570289e-313,   2.80834431e-310,   1.83343715e-309,\n",
      "         3.14891619e-309]))\n",
      "[[-0.2 -0.  -0.  -0.  -0. ]\n",
      " [-0.  -0.2 -0.  -0.  -0. ]\n",
      " [-0.  -0.  -0.2 -0.  -0. ]\n",
      " [-0.  -0.  -0.  -0.2 -0. ]\n",
      " [-0.  -0.  -0.  -0.  -0.2]]\n"
     ]
    }
   ],
   "source": [
    "import scipy as sp\n",
    "q = -5*np.eye(5)\n",
    "w,v = np.linalg.eigh(x)\n",
    "print('w vals: ', w)\n",
    "# print('w: ', np.linalg.eigh(x)[0])\n",
    "# print('v vectors: ', v)\n",
    "wsort = np.amin(np.sort(w))\n",
    "qchol = np.linalg.inv(q)\n",
    "print(qchol)"
   ]
  },
  {
   "cell_type": "code",
   "execution_count": 18,
   "metadata": {},
   "outputs": [
    {
     "data": {
      "text/plain": [
       "array([[ 1000000.,        0.,        0.,        0.,        0.,        0.,\n",
       "               0.],\n",
       "       [       0.,  1000000.,        0.,        0.,        0.,        0.,\n",
       "               0.],\n",
       "       [       0.,        0.,  1000000.,        0.,        0.,        0.,\n",
       "               0.],\n",
       "       [       0.,        0.,        0.,  1000000.,        0.,        0.,\n",
       "               0.],\n",
       "       [       0.,        0.,        0.,        0.,  1000000.,        0.,\n",
       "               0.],\n",
       "       [       0.,        0.,        0.,        0.,        0.,  1000000.,\n",
       "               0.],\n",
       "       [       0.,        0.,        0.,        0.,        0.,        0.,\n",
       "         1000000.]])"
      ]
     },
     "execution_count": 18,
     "metadata": {},
     "output_type": "execute_result"
    }
   ],
   "source": [
    "wnew = wsort * w\n",
    "wnew = wnew + 1e-6*np.eye(wnew.shape[0])\n",
    "np.linalg.inv(wnew)"
   ]
  },
  {
   "cell_type": "code",
   "execution_count": 133,
   "metadata": {},
   "outputs": [
    {
     "name": "stdout",
     "output_type": "stream",
     "text": [
      "Help on built-in function normal:\n",
      "\n",
      "normal(...)\n",
      "    normal(loc=0.0, scale=1.0, size=None)\n",
      "    \n",
      "    Draw random samples from a normal (Gaussian) distribution.\n",
      "    \n",
      "    The probability density function of the normal distribution, first\n",
      "    derived by De Moivre and 200 years later by both Gauss and Laplace\n",
      "    independently [2]_, is often called the bell curve because of\n",
      "    its characteristic shape (see the example below).\n",
      "    \n",
      "    The normal distributions occurs often in nature.  For example, it\n",
      "    describes the commonly occurring distribution of samples influenced\n",
      "    by a large number of tiny, random disturbances, each with its own\n",
      "    unique distribution [2]_.\n",
      "    \n",
      "    Parameters\n",
      "    ----------\n",
      "    loc : float or array_like of floats\n",
      "        Mean (\"centre\") of the distribution.\n",
      "    scale : float or array_like of floats\n",
      "        Standard deviation (spread or \"width\") of the distribution.\n",
      "    size : int or tuple of ints, optional\n",
      "        Output shape.  If the given shape is, e.g., ``(m, n, k)``, then\n",
      "        ``m * n * k`` samples are drawn.  If size is ``None`` (default),\n",
      "        a single value is returned if ``loc`` and ``scale`` are both scalars.\n",
      "        Otherwise, ``np.broadcast(loc, scale).size`` samples are drawn.\n",
      "    \n",
      "    Returns\n",
      "    -------\n",
      "    out : ndarray or scalar\n",
      "        Drawn samples from the parameterized normal distribution.\n",
      "    \n",
      "    See Also\n",
      "    --------\n",
      "    scipy.stats.norm : probability density function, distribution or\n",
      "        cumulative density function, etc.\n",
      "    \n",
      "    Notes\n",
      "    -----\n",
      "    The probability density for the Gaussian distribution is\n",
      "    \n",
      "    .. math:: p(x) = \\frac{1}{\\sqrt{ 2 \\pi \\sigma^2 }}\n",
      "                     e^{ - \\frac{ (x - \\mu)^2 } {2 \\sigma^2} },\n",
      "    \n",
      "    where :math:`\\mu` is the mean and :math:`\\sigma` the standard\n",
      "    deviation. The square of the standard deviation, :math:`\\sigma^2`,\n",
      "    is called the variance.\n",
      "    \n",
      "    The function has its peak at the mean, and its \"spread\" increases with\n",
      "    the standard deviation (the function reaches 0.607 times its maximum at\n",
      "    :math:`x + \\sigma` and :math:`x - \\sigma` [2]_).  This implies that\n",
      "    `numpy.random.normal` is more likely to return samples lying close to\n",
      "    the mean, rather than those far away.\n",
      "    \n",
      "    References\n",
      "    ----------\n",
      "    .. [1] Wikipedia, \"Normal distribution\",\n",
      "           http://en.wikipedia.org/wiki/Normal_distribution\n",
      "    .. [2] P. R. Peebles Jr., \"Central Limit Theorem\" in \"Probability,\n",
      "           Random Variables and Random Signal Principles\", 4th ed., 2001,\n",
      "           pp. 51, 51, 125.\n",
      "    \n",
      "    Examples\n",
      "    --------\n",
      "    Draw samples from the distribution:\n",
      "    \n",
      "    >>> mu, sigma = 0, 0.1 # mean and standard deviation\n",
      "    >>> s = np.random.normal(mu, sigma, 1000)\n",
      "    \n",
      "    Verify the mean and the variance:\n",
      "    \n",
      "    >>> abs(mu - np.mean(s)) < 0.01\n",
      "    True\n",
      "    \n",
      "    >>> abs(sigma - np.std(s, ddof=1)) < 0.01\n",
      "    True\n",
      "    \n",
      "    Display the histogram of the samples, along with\n",
      "    the probability density function:\n",
      "    \n",
      "    >>> import matplotlib.pyplot as plt\n",
      "    >>> count, bins, ignored = plt.hist(s, 30, normed=True)\n",
      "    >>> plt.plot(bins, 1/(sigma * np.sqrt(2 * np.pi)) *\n",
      "    ...                np.exp( - (bins - mu)**2 / (2 * sigma**2) ),\n",
      "    ...          linewidth=2, color='r')\n",
      "    >>> plt.show()\n",
      "\n"
     ]
    }
   ],
   "source": [
    "a = np.empty_like(Of)\n",
    "help(np.random.normal)"
   ]
  },
  {
   "cell_type": "code",
   "execution_count": null,
   "metadata": {
    "collapsed": true
   },
   "outputs": [],
   "source": []
  }
 ],
 "metadata": {
  "kernelspec": {
   "display_name": "Python 2",
   "language": "python",
   "name": "python2"
  },
  "language_info": {
   "codemirror_mode": {
    "name": "ipython",
    "version": 2
   },
   "file_extension": ".py",
   "mimetype": "text/x-python",
   "name": "python",
   "nbconvert_exporter": "python",
   "pygments_lexer": "ipython2",
   "version": "2.7.12"
  }
 },
 "nbformat": 4,
 "nbformat_minor": 2
}
