{
 "cells": [
  {
   "cell_type": "code",
   "execution_count": 1,
   "metadata": {},
   "outputs": [],
   "source": [
    "import numpy as np\n",
    "import matplotlib.pyplot as plt\n",
    "from os.path import join, expanduser\n",
    "\n",
    "import os"
   ]
  },
  {
   "cell_type": "code",
   "execution_count": 41,
   "metadata": {},
   "outputs": [],
   "source": [
    "\n",
    "fontdict = {'fontsize':16, 'fontweight':'bold'}\n",
    "\n",
    "expt_dir = join(expanduser('~'), 'catkin_ws', 'src', 'gps', 'experiments')\n",
    "expt_name = 'mjc_mdgps_protagonist'\n",
    "expt = join(expt_dir, expt_name)"
   ]
  },
  {
   "cell_type": "code",
   "execution_count": 9,
   "metadata": {},
   "outputs": [
    {
     "name": "stdout",
     "output_type": "stream",
     "text": [
      "[[ -2.32982946e-01  -1.94110899e-01  -5.93010261e-02  -6.32943828e-02\n",
      "   -3.44055456e-03   5.00752508e-02   8.15885131e-03   6.51730163e-02\n",
      "    2.04940275e-01   5.48277719e-02  -7.86122952e-02  -1.10803071e-02\n",
      "    1.22442678e-02  -8.21515429e-03  -4.07523312e-02   1.25363554e-01\n",
      "    1.76966910e-02   1.59524636e-01   3.58850823e-03   1.24968729e-01\n",
      "    7.05320519e-03  -1.24095675e-01   5.35517407e-02   4.84602171e-02\n",
      "    9.66317110e-02   2.01517903e-02   2.25210216e-01   1.01793935e-02\n",
      "    0.00000000e+00   0.00000000e+00   0.00000000e+00   0.00000000e+00\n",
      "    0.00000000e+00   0.00000000e+00   0.00000000e+00]\n",
      " [  2.65885660e-01   2.19402030e-01   7.03473560e-02  -1.23778271e-01\n",
      "    1.27131411e-02  -1.23670976e-02   2.24573447e-02  -1.98145775e-01\n",
      "    2.80746573e-01  -2.46218927e-02  -1.98341444e-01  -4.69679625e-03\n",
      "    1.30734285e-01  -1.93218700e-02   1.85958063e-01  -1.16607027e-01\n",
      "   -3.85500781e-02  -5.20412504e-01  -9.55948889e-03   1.59729543e-01\n",
      "    3.17372862e-02   1.69451072e-01   1.35834493e-01  -6.41175518e-02\n",
      "   -3.55121178e-01   7.24871932e-03   5.50971927e-03  -2.56364668e-03\n",
      "    0.00000000e+00   0.00000000e+00   0.00000000e+00   0.00000000e+00\n",
      "    0.00000000e+00   0.00000000e+00   0.00000000e+00]\n",
      " [  7.66203077e-01   4.95944801e-01  -4.30774758e-01   2.59774828e-02\n",
      "    3.86500212e-04   2.19840230e-01   2.22646236e-02   2.94464960e-01\n",
      "    2.68469326e-01  -6.22003861e-01   3.47751649e-01   3.63144160e-02\n",
      "    3.42068910e-01   1.20565626e-02   7.21506084e-01   4.20331909e-01\n",
      "   -3.25934089e-01   7.74441192e-02   1.73389251e-04   2.22922352e-01\n",
      "    3.56343532e-03   1.02070605e+00   5.01466578e-01  -4.37577953e-01\n",
      "    8.56195797e-02  -4.52536286e-02   3.77207417e-01   1.27788873e-02\n",
      "    0.00000000e+00   0.00000000e+00   0.00000000e+00   0.00000000e+00\n",
      "    0.00000000e+00   0.00000000e+00   0.00000000e+00]\n",
      " [  6.07695499e-01   5.36964745e-01  -1.54421457e+00   5.08124144e-01\n",
      "   -2.19728588e-02   7.49796178e-01   2.43447854e-02   1.09186801e+00\n",
      "    6.06653229e-01  -1.21802016e+00   1.16907491e+00   2.65024395e-01\n",
      "    7.52676546e-01  -5.17199766e-03   9.65543376e-01   5.41179420e-01\n",
      "   -1.10803641e+00   6.36026474e-01  -3.03113311e-03   5.83876324e-01\n",
      "    8.03425960e-03   1.01416994e+00   6.85071847e-01  -1.24298046e+00\n",
      "    5.44068488e-01  -8.03716762e-03   6.60756999e-01   1.11077668e-02\n",
      "    0.00000000e+00   0.00000000e+00   0.00000000e+00   0.00000000e+00\n",
      "    0.00000000e+00   0.00000000e+00   0.00000000e+00]\n",
      " [  9.64936576e-01   8.55355660e-01  -1.21637776e+00   2.98510391e-01\n",
      "   -8.75485132e-02   6.82850862e-01  -1.74225665e-02   3.69330985e-01\n",
      "    4.45215213e-01  -1.66391392e+00   1.08630617e+00  -2.75137956e-02\n",
      "    8.79598396e-01  -1.00515813e-02   8.81259269e-01   3.11545523e-01\n",
      "   -1.34163679e+00   1.05849917e+00  -2.68892923e-02   1.04107090e+00\n",
      "    3.58907662e-03   1.20034428e+00   7.52695445e-01  -1.57378780e+00\n",
      "    6.51631482e-01  -5.27471729e-02   7.80255406e-01  -1.39487231e-02\n",
      "    0.00000000e+00   0.00000000e+00   0.00000000e+00   0.00000000e+00\n",
      "    0.00000000e+00   0.00000000e+00   0.00000000e+00]\n",
      " [  6.34393733e-01   1.32256410e+00  -1.80501315e+00   2.67198250e-01\n",
      "   -3.81172930e-02   6.85171313e-01   8.62561553e-02   4.97287137e-01\n",
      "    2.95204611e-01  -1.42341867e+00   8.26571522e-01   4.31582092e-02\n",
      "    7.49302772e-01   5.95858597e-03   5.60151958e-01   4.56246481e-01\n",
      "   -1.52774040e+00   7.59004772e-01   5.06237288e-02   8.50550414e-01\n",
      "    2.70365922e-02   3.60300416e-01   9.16643145e-01  -2.00398963e+00\n",
      "    7.09065737e-01   9.75119996e-02   1.09762557e+00   7.27337838e-02\n",
      "    0.00000000e+00   0.00000000e+00   0.00000000e+00   0.00000000e+00\n",
      "    0.00000000e+00   0.00000000e+00   0.00000000e+00]\n",
      " [  9.86149444e-01   1.65333073e+00  -1.74636749e+00   8.27403544e-01\n",
      "    3.30965352e-02   7.07358033e-01   1.65408503e-02   1.72426071e-01\n",
      "    2.49734751e-01  -1.78161664e+00   1.39537057e+00   6.35439259e-02\n",
      "    1.02521331e+00  -5.67695326e-02   5.20639245e-01   4.49757941e-01\n",
      "   -1.90092948e+00   1.37963368e+00   1.23765083e-01   9.80367245e-01\n",
      "   -1.91582088e-02   3.78683738e-01   1.19187824e+00  -2.28069152e+00\n",
      "    8.75159301e-01   1.99419307e-01   8.93958168e-01   1.29218674e-01\n",
      "    0.00000000e+00   0.00000000e+00   0.00000000e+00   0.00000000e+00\n",
      "    0.00000000e+00   0.00000000e+00   0.00000000e+00]\n",
      " [  6.55438557e-01   1.35476551e+00  -2.03869253e+00   8.75941974e-01\n",
      "   -1.08604584e-02   9.52221007e-01   3.81225828e-02   1.56655593e-01\n",
      "    4.12045559e-01  -1.73625995e+00   1.83527108e+00   6.86602038e-02\n",
      "    1.09807381e+00  -1.33637968e-01   5.72929384e-01   6.60340882e-01\n",
      "   -2.52690658e+00   1.90700036e+00   1.79464786e-01   1.35442903e+00\n",
      "   -6.40125649e-02   2.94276768e-01   1.61802214e+00  -3.07334968e+00\n",
      "    1.57952008e+00   1.99627636e-01   1.30666857e+00  -4.13575624e-02\n",
      "    0.00000000e+00   0.00000000e+00   0.00000000e+00   0.00000000e+00\n",
      "    0.00000000e+00   0.00000000e+00   0.00000000e+00]\n",
      " [  9.93582384e-01   1.94233969e+00  -2.23630750e+00   1.37980421e+00\n",
      "   -1.21095145e-02   1.06122331e+00  -8.58778413e-02   9.19198065e-03\n",
      "    6.36510475e-01  -2.20026440e+00   2.20822460e+00   9.28055390e-02\n",
      "    1.32990658e+00  -1.10893572e-01  -5.11917834e-02   3.15479550e-01\n",
      "   -3.13365844e+00   2.33757215e+00   2.26679942e-01   1.54371457e+00\n",
      "   -3.51434222e-02   1.74245677e-01   1.72079779e+00  -2.90799426e+00\n",
      "    1.30994900e+00   2.49963167e-01   1.24235330e+00   1.35696161e-02\n",
      "    0.00000000e+00   0.00000000e+00   0.00000000e+00   0.00000000e+00\n",
      "    0.00000000e+00   0.00000000e+00   0.00000000e+00]\n",
      " [  1.07618176e+00   2.03648703e+00  -2.56140893e+00   1.46627429e+00\n",
      "   -4.82425143e-02   1.22192167e+00  -9.56854588e-02   2.66856362e-01\n",
      "    5.36749242e-01  -1.95794652e+00   2.44005852e+00   1.50264218e-01\n",
      "    1.28304196e+00  -2.24347877e-01   1.29087773e-01   3.80179174e-01\n",
      "   -3.13793132e+00   2.39321852e+00   1.64247047e-01   1.56971026e+00\n",
      "   -6.28735843e-02   5.44634769e-01   2.21170761e+00  -3.35913439e+00\n",
      "    1.79773694e+00   1.78189969e-01   1.42127197e+00  -5.91737766e-02\n",
      "    0.00000000e+00   0.00000000e+00   0.00000000e+00   0.00000000e+00\n",
      "    0.00000000e+00   0.00000000e+00   0.00000000e+00]\n",
      " [  1.10114271e+00   2.04180044e+00  -2.63165534e+00   1.70803654e+00\n",
      "   -5.32376937e-02   1.28693739e+00  -1.54607859e-01   3.63711175e-01\n",
      "    9.82173645e-01  -2.69317356e+00   2.61728991e+00   1.53428985e-01\n",
      "    1.58436275e+00  -1.45033812e-01   7.44271159e-01   7.25402830e-01\n",
      "   -2.69233429e+00   2.59088846e+00   3.07070636e-01   1.39360028e+00\n",
      "   -1.10457805e-01   9.20967360e-01   2.41687038e+00  -3.76585474e+00\n",
      "    2.01886384e+00   2.68232869e-01   1.39165324e+00  -5.66154617e-02\n",
      "    0.00000000e+00   0.00000000e+00   0.00000000e+00   0.00000000e+00\n",
      "    0.00000000e+00   0.00000000e+00   0.00000000e+00]\n",
      " [  1.36865277e+00   2.10709324e+00  -2.22707024e+00   1.56558706e+00\n",
      "   -4.06797727e-02   1.09823985e+00  -1.38154804e-01   9.04036973e-02\n",
      "    3.70310734e-01  -2.02784428e+00   2.50968587e+00   8.39090997e-02\n",
      "    1.35289360e+00  -2.49381149e-01   2.14727068e+01   6.62026015e+00\n",
      "   -9.74909950e-01   3.87257682e-01  -2.55258867e-01   2.62064505e+01\n",
      "   -1.98035952e-01   3.32415496e-03   1.54801857e+00  -2.88159288e+00\n",
      "    1.65688510e+00   3.04546941e-01   1.21753322e+00  -5.36572611e-02\n",
      "    0.00000000e+00   0.00000000e+00   0.00000000e+00   0.00000000e+00\n",
      "    0.00000000e+00   0.00000000e+00   0.00000000e+00]]\n"
     ]
    }
   ],
   "source": [
    "costs = np.loadtxt(join(expt, 'costs.txt'))\n"
   ]
  },
  {
   "cell_type": "code",
   "execution_count": 4,
   "metadata": {},
   "outputs": [],
   "source": [
    "np.savetxt('/tmp/costs.txt', [1, 2, 3, 4])"
   ]
  },
  {
   "cell_type": "code",
   "execution_count": 5,
   "metadata": {},
   "outputs": [
    {
     "name": "stdout",
     "output_type": "stream",
     "text": [
      "[ 1.  2.  3.  4.]\n"
     ]
    }
   ],
   "source": [
    "res = np.loadtxt('/tmp/costs.txt')\n",
    "print(res)"
   ]
  },
  {
   "cell_type": "code",
   "execution_count": 6,
   "metadata": {},
   "outputs": [],
   "source": [
    "def costs_plotter(cost_array, show=False, save=None, save_dir=None, expt_name='box2d_arm_example'):\n",
    "    f, ax = plt.subplots(1, 1)   \n",
    "    t = np.arange(len(cost_array))\n",
    "    \n",
    "    if save_dir is None:\n",
    "        save_dir = join(expanduser('~'), 'Documents', 'Papers', 'iDG_Journal', 'ICML_figs')\n",
    "                        \n",
    "    if not os.path.exists(save_dir):\n",
    "        os.makedirs(save_dir)    \n",
    "    fontdict = {'fontsize':16, 'fontweight':'bold'}\n",
    "\n",
    "    ax.plot(t, cost_array, linewidth=8, color='blue')#, fontdict=fontdict)\n",
    "    \n",
    "    ax.set_xlabel('Number of Iterations',fontdict=fontdict)\n",
    "    ax.set_ylabel('Cost per iteration',fontdict=fontdict)\n",
    "    \n",
    "    ax.set_title(expt_name, fontdict)\n",
    "    \n",
    "    ax.xaxis.set_tick_params(labelsize=20)\n",
    "    ax.yaxis.set_tick_params(labelsize=20)\n",
    "\n",
    "    plt.gcf().set_size_inches(8, 5)\n",
    "    plt.grid()\n",
    "                        \n",
    "    if show:\n",
    "        plt.show()\n",
    "    if save:\n",
    "        f.savefig(save_dir + '/' + save + '.png')\n",
    "        f.savefig(save_dir + '/' + save + '.svg')"
   ]
  },
  {
   "cell_type": "markdown",
   "metadata": {},
   "source": [
    "#### This is for the protagonist experiment"
   ]
  },
  {
   "cell_type": "code",
   "execution_count": 50,
   "metadata": {},
   "outputs": [],
   "source": [
    "control_u = np.loadtxt(join(expt, 'control_u.txt'))\n",
    "# plot control laws per iteration for each condition\n",
    "# condition 1 ]\n",
    "# print(control_u)\n",
    "    "
   ]
  },
  {
   "cell_type": "code",
   "execution_count": 52,
   "metadata": {},
   "outputs": [],
   "source": [
    "def plot_joint_controls(u_cond, title=None, fontdict=None):\n",
    "    \n",
    "    for i in range(u_cond.shape[-1]):\n",
    "        plt.plot(range(u_cond.shape[0]),  u_cond[:,i], label='Joint {}'.format(i+1), linewidth=8)\n",
    "    plt.legend(loc=(1,0.5))\n",
    "    plt.title(title, fontdict=fontdict)\n",
    "    plt.xlabel('Number of Iterations', fontdict=fontdict)\n",
    "    plt.ylabel('Torque (Nm)', fontdict=fontdict)\n",
    "\n",
    "    plt.show()"
   ]
  },
  {
   "cell_type": "code",
   "execution_count": 59,
   "metadata": {},
   "outputs": [
    {
     "data": {
      "image/png": "[encoded data removed]",
      "text/plain": [
       "<matplotlib.figure.Figure at 0x7eff114b04e0>"
      ]
     },
     "metadata": {},
     "output_type": "display_data"
    }
   ],
   "source": [
    "u_cond1 = control_u[:, range(7)]\n",
    "u_cond2 = control_u[:, range(7, 14)]\n",
    "u_cond3 = control_u[:, range(14, 21)]\n",
    "u_cond4 = control_u[:, range(21, 28)]\n",
    "u_cond5 = control_u[:, range(28, 35)]\n",
    "\n",
    "plot_joint_controls(u_cond5, title='Nominal Policy for Trajectory I', fontdict=fontdict)\n",
    "\n",
    "# for i in range(u_cond1.shape[-1]):\n",
    "#     plt.plot(range(u_cond1.shape[0]),  u_cond1[:,i], label='Joint {}'.format(i+1), linewidth=8)\n",
    "# plt.legend(loc=(1,0.5))\n",
    "# plt.title('Nominal Policy for Trajectory I', fontdict=fontdict)\n",
    "# plt.xlabel('Number of Iterations', fontdict=fontdict)\n",
    "# plt.ylabel('Torque (Nm)', fontdict=fontdict)\n",
    "\n",
    "# plt.show()"
   ]
  },
  {
   "cell_type": "code",
   "execution_count": 47,
   "metadata": {},
   "outputs": [],
   "source": [
    "costs_ypt5 = [[1293.199832441632, -356.37077226672261, -325.21620215648824, -342.62118323929906],\n",
    "[1651.0784232499504, -357.60684748312923, -419.85712120312047, -386.19617112958207],\n",
    "[-174.68318952321647, -315.88862412575816, -263.42591679519336, -242.86728257105241],\n",
    "[-502.47719686147627, -513.43755066820609, -500.42442080387025, -403.11998090797886],\n",
    "[-544.43722254784166, -499.68734613993485, -532.93952994553035, -483.91167497893696],\n",
    "[-558.36496893122421, -506.26553180958228, -539.01774395658435, -512.260414584655],\n",
    "[-564.04259411097871, -398.49276221196578, -528.4803948737781, -519.94916506947527],\n",
    "[25303.759076246126, -395.95658724582705, 176.83617916968902, -532.0119748639604],\n",
    "[86004.673648318625, -386.75576288056175, -452.92770523560483, -527.68879799517026],\n",
    "[170.0162219478363, -517.54693183019504, -520.77281869921057, -535.43402731951358],\n",
    "]"
   ]
  },
  {
   "cell_type": "code",
   "execution_count": 7,
   "metadata": {},
   "outputs": [
    {
     "ename": "NameError",
     "evalue": "name 'cost' is not defined",
     "output_type": "error",
     "traceback": [
      "\u001b[0;31m---------------------------------------------------------------------------\u001b[0m",
      "\u001b[0;31mNameError\u001b[0m                                 Traceback (most recent call last)",
      "\u001b[0;32m<ipython-input-7-97cfa2e087f1>\u001b[0m in \u001b[0;36m<module>\u001b[0;34m()\u001b[0m\n\u001b[0;32m----> 1\u001b[0;31m \u001b[0mcosts_plotter\u001b[0m\u001b[0;34m(\u001b[0m\u001b[0mcost\u001b[0m\u001b[0;34m,\u001b[0m \u001b[0mshow\u001b[0m\u001b[0;34m=\u001b[0m\u001b[0;32mFalse\u001b[0m\u001b[0;34m,\u001b[0m \u001b[0msave\u001b[0m\u001b[0;34m=\u001b[0m\u001b[0;34m'protagonist'\u001b[0m\u001b[0;34m,\u001b[0m \u001b[0mexpt_name\u001b[0m\u001b[0;34m=\u001b[0m\u001b[0mexpt_name\u001b[0m\u001b[0;34m)\u001b[0m\u001b[0;34m\u001b[0m\u001b[0m\n\u001b[0m",
      "\u001b[0;31mNameError\u001b[0m: name 'cost' is not defined"
     ]
    }
   ],
   "source": [
    "costs_plotter(cost, show=False, save='protagonist', expt_name=expt_name)"
   ]
  },
  {
   "cell_type": "code",
   "execution_count": 164,
   "metadata": {},
   "outputs": [
    {
     "name": "stdout",
     "output_type": "stream",
     "text": [
      "[    67.24791869    121.85457086   -249.21625325   -479.86478731\n",
      "   -515.2439434    -528.97716482   -502.74122907   6138.15667333\n",
      "  21159.32534555   -350.93438898   -394.2155457   21159.32534555\n",
      "   -394.2155457    -350.93438898   -350.93438898]\n"
     ]
    }
   ],
   "source": [
    "expt_name = 'Pendulum $\\gamma$ = 0.5'\n",
    "costs = [\n",
    "[1293.199832441632, -356.37077226672261, -325.21620215648824, -342.62118323929906],\n",
    "[1651.0784232499504, -357.60684748312923, -419.85712120312047, -386.19617112958207],\n",
    "[-174.68318952321647, -315.88862412575816, -263.42591679519336, -242.86728257105241],\n",
    "[-502.47719686147627, -513.43755066820609, -500.42442080387025, -403.11998090797886],\n",
    "[-544.43722254784166, -499.68734613993485, -532.93952994553035, -483.91167497893696],\n",
    "[-558.36496893122421, -506.26553180958228, -539.01774395658435, -512.260414584655],\n",
    "[-564.04259411097871, -398.49276221196578, -528.4803948737781, -519.94916506947527],\n",
    "[25303.759076246126, -395.95658724582705, 176.83617916968902, -532.0119748639604],\n",
    "[86004.673648318625, -386.75576288056175, -452.92770523560483, -527.68879799517026],\n",
    "[170.0162219478363, -517.54693183019504, -520.77281869921057, -535.43402731951358],\n",
    "[-52.905787921642784, -462.96351173698929, -538.0481423738205, -522.944740773489],\n",
    "[86004.673648318625, -386.75576288056175, -452.92770523560483, -527.68879799517026],\n",
    "[-52.905787921642784, -462.96351173698929, -538.0481423738205, -522.944740773489],\n",
    "[170.0162219478363, -517.54693183019504, -520.77281869921057, -535.43402731951358],\n",
    "[170.0162219478363, -517.54693183019504, -520.77281869921057, -535.43402731951358]\n",
    "]\n",
    "cost = np.array(costs)\n",
    "cost = np.mean(cost, 1)\n",
    "# with open(join(expt_dir, expt_name) + '/costs.txt') as f:\n",
    "#     w, h = [int(x) for x in next(f).split()]\n",
    "#     costs = [[int(x) for x in line.split()] for line in f]\n",
    "print(cost)"
   ]
  },
  {
   "cell_type": "code",
   "execution_count": 165,
   "metadata": {},
   "outputs": [
    {
     "data": {
      "image/png": "[encoded data removed]",
      "text/plain": [
       "<matplotlib.figure.Figure at 0x7f5378e67160>"
      ]
     },
     "metadata": {},
     "output_type": "display_data"
    }
   ],
   "source": [
    "costs_plotter(cost,  save=None, expt_name=expt_name)"
   ]
  },
  {
   "cell_type": "code",
   "execution_count": null,
   "metadata": {},
   "outputs": [],
   "source": []
  },
  {
   "cell_type": "code",
   "execution_count": 69,
   "metadata": {},
   "outputs": [
    {
     "ename": "TypeError",
     "evalue": "'float' object cannot be interpreted as an integer",
     "output_type": "error",
     "traceback": [
      "\u001b[0;31m---------------------------------------------------------------------------\u001b[0m",
      "\u001b[0;31mTypeError\u001b[0m                                 Traceback (most recent call last)",
      "\u001b[0;32m<ipython-input-69-87c1e1c8eefd>\u001b[0m in \u001b[0;36m<module>\u001b[0;34m()\u001b[0m\n\u001b[0;32m----> 1\u001b[0;31m \u001b[0mlvv_t2\u001b[0m\u001b[0;34m=\u001b[0m \u001b[0mnp\u001b[0m\u001b[0;34m.\u001b[0m\u001b[0mtile\u001b[0m\u001b[0;34m(\u001b[0m\u001b[0mnp\u001b[0m\u001b[0;34m.\u001b[0m\u001b[0mdiag\u001b[0m\u001b[0;34m(\u001b[0m\u001b[0;36m2\u001b[0m \u001b[0;34m*\u001b[0m \u001b[0;36m1e-6\u001b[0m \u001b[0;34m*\u001b[0m \u001b[0mnp\u001b[0m\u001b[0;34m.\u001b[0m\u001b[0marray\u001b[0m\u001b[0;34m(\u001b[0m\u001b[0;34m[\u001b[0m\u001b[0;36m1\u001b[0m\u001b[0;34m,\u001b[0m \u001b[0;36m1\u001b[0m\u001b[0;34m]\u001b[0m\u001b[0;34m)\u001b[0m\u001b[0;34m)\u001b[0m\u001b[0;34m,\u001b[0m \u001b[0;34m[\u001b[0m\u001b[0;36m100\u001b[0m\u001b[0;34m,\u001b[0m \u001b[0;36m3.5\u001b[0m\u001b[0;34m,\u001b[0m \u001b[0;36m3\u001b[0m\u001b[0;34m]\u001b[0m\u001b[0;34m)\u001b[0m \u001b[0;31m#shape (100, 7, 7)\u001b[0m\u001b[0;34m\u001b[0m\u001b[0m\n\u001b[0m\u001b[1;32m      2\u001b[0m \u001b[0mlvv_t2\u001b[0m\u001b[0;34m.\u001b[0m\u001b[0mshape\u001b[0m\u001b[0;34m\u001b[0m\u001b[0m\n",
      "\u001b[0;32m~/anaconda3/lib/python3.6/site-packages/numpy/lib/shape_base.py\u001b[0m in \u001b[0;36mtile\u001b[0;34m(A, reps)\u001b[0m\n\u001b[1;32m    912\u001b[0m                 \u001b[0mc\u001b[0m \u001b[0;34m=\u001b[0m \u001b[0mc\u001b[0m\u001b[0;34m.\u001b[0m\u001b[0mreshape\u001b[0m\u001b[0;34m(\u001b[0m\u001b[0;34m-\u001b[0m\u001b[0;36m1\u001b[0m\u001b[0;34m,\u001b[0m \u001b[0mn\u001b[0m\u001b[0;34m)\u001b[0m\u001b[0;34m.\u001b[0m\u001b[0mrepeat\u001b[0m\u001b[0;34m(\u001b[0m\u001b[0mnrep\u001b[0m\u001b[0;34m,\u001b[0m \u001b[0;36m0\u001b[0m\u001b[0;34m)\u001b[0m\u001b[0;34m\u001b[0m\u001b[0m\n\u001b[1;32m    913\u001b[0m             \u001b[0mn\u001b[0m \u001b[0;34m//=\u001b[0m \u001b[0mdim_in\u001b[0m\u001b[0;34m\u001b[0m\u001b[0m\n\u001b[0;32m--> 914\u001b[0;31m     \u001b[0;32mreturn\u001b[0m \u001b[0mc\u001b[0m\u001b[0;34m.\u001b[0m\u001b[0mreshape\u001b[0m\u001b[0;34m(\u001b[0m\u001b[0mshape_out\u001b[0m\u001b[0;34m)\u001b[0m\u001b[0;34m\u001b[0m\u001b[0m\n\u001b[0m",
      "\u001b[0;31mTypeError\u001b[0m: 'float' object cannot be interpreted as an integer"
     ]
    }
   ],
   "source": [
    "lvv_t2= np.tile(np.diag(2 * 1e-6 * np.array([1, 1])), [100, 3.5, 3]) #shape (100, 7, 7)\n",
    "lvv_t2.shape"
   ]
  },
  {
   "cell_type": "code",
   "execution_count": null,
   "metadata": {
    "collapsed": true
   },
   "outputs": [],
   "source": []
  }
 ],
 "metadata": {
  "kernelspec": {
   "display_name": "Python 3",
   "language": "python",
   "name": "python3"
  },
  "language_info": {
   "codemirror_mode": {
    "name": "ipython",
    "version": 3
   },
   "file_extension": ".py",
   "mimetype": "text/x-python",
   "name": "python",
   "nbconvert_exporter": "python",
   "pygments_lexer": "ipython3",
   "version": "3.5.4"
  }
 },
 "nbformat": 4,
 "nbformat_minor": 2
}
